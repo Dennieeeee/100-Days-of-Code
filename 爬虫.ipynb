{
  "nbformat": 4,
  "nbformat_minor": 0,
  "metadata": {
    "colab": {
      "name": "爬虫.ipynb",
      "provenance": [],
      "collapsed_sections": [],
      "authorship_tag": "ABX9TyNg1StrXFJRJoqAuz2/TS/R",
      "include_colab_link": true
    },
    "kernelspec": {
      "name": "python3",
      "display_name": "Python 3"
    }
  },
  "cells": [
    {
      "cell_type": "markdown",
      "metadata": {
        "id": "view-in-github",
        "colab_type": "text"
      },
      "source": [
        "<a href=\"https://colab.research.google.com/github/Dennieeeee/100-Days-of-Code/blob/main/%E7%88%AC%E8%99%AB.ipynb\" target=\"_parent\"><img src=\"https://colab.research.google.com/assets/colab-badge.svg\" alt=\"Open In Colab\"/></a>"
      ]
    },
    {
      "cell_type": "code",
      "metadata": {
        "id": "FnBvDBUtGgNl"
      },
      "source": [
        "import urllib.request, urllib.parse, urllib.error\n",
        "from bs4 import BeautifulSoup\n",
        "import requests\n",
        "import pandas as pd\n",
        "import random # randomly pick a place if we don't know where we want to visit"
      ],
      "execution_count": 1,
      "outputs": []
    },
    {
      "cell_type": "markdown",
      "metadata": {
        "id": "E-L5oKeLwS8D"
      },
      "source": [
        "# Scrape vacation list and save it to a csv file"
      ]
    },
    {
      "cell_type": "code",
      "metadata": {
        "id": "6YDVAVCNHeSJ"
      },
      "source": [
        "url = 'https://www.cnn.com/travel/article/china-beautiful-places/index.html'"
      ],
      "execution_count": 2,
      "outputs": []
    },
    {
      "cell_type": "code",
      "metadata": {
        "id": "iZD9wrd7Hjir"
      },
      "source": [
        "response = requests.get(url)\n",
        "web_page = response.text"
      ],
      "execution_count": 3,
      "outputs": []
    },
    {
      "cell_type": "code",
      "metadata": {
        "id": "npeV-03oHoJW"
      },
      "source": [
        "soup = BeautifulSoup(web_page, 'html.parser')"
      ],
      "execution_count": 4,
      "outputs": []
    },
    {
      "cell_type": "code",
      "metadata": {
        "id": "O_1YA6vlHsF5",
        "colab": {
          "base_uri": "https://localhost:8080/"
        },
        "outputId": "5d6a654f-e415-4b10-8c9d-c30bd6302883"
      },
      "source": [
        "title = soup.find('h3')\n",
        "print(title)"
      ],
      "execution_count": 5,
      "outputs": [
        {
          "output_type": "stream",
          "text": [
            "<h3>1. Anhui: Hongcun Ancient Village (安徽宏村)</h3>\n"
          ],
          "name": "stdout"
        }
      ]
    },
    {
      "cell_type": "code",
      "metadata": {
        "colab": {
          "base_uri": "https://localhost:8080/",
          "height": 35
        },
        "id": "APO8K0dQHs_e",
        "outputId": "1efabc0c-27c1-4bfb-8b30-ccbfe278560d"
      },
      "source": [
        "\n",
        "'''\n",
        "for tag in tags:\n",
        "  x = print(tag.contents[0])\n",
        "  names.append(x)\n",
        "'''"
      ],
      "execution_count": 6,
      "outputs": [
        {
          "output_type": "execute_result",
          "data": {
            "application/vnd.google.colaboratory.intrinsic+json": {
              "type": "string"
            },
            "text/plain": [
              "'\\nfor tag in tags:\\n  x = print(tag.contents[0])\\n  names.append(x)\\n'"
            ]
          },
          "metadata": {
            "tags": []
          },
          "execution_count": 6
        }
      ]
    },
    {
      "cell_type": "code",
      "metadata": {
        "id": "dac8EvmApI0Z"
      },
      "source": [
        "all_title = soup.find_all('h3')\n",
        "places = []\n",
        "for i in all_title:\n",
        "  x = i.get_text()\n",
        "  places.append(x)"
      ],
      "execution_count": 7,
      "outputs": []
    },
    {
      "cell_type": "code",
      "metadata": {
        "id": "-edtlEG7qCCr",
        "colab": {
          "base_uri": "https://localhost:8080/"
        },
        "outputId": "23645ebc-d02e-4fed-ea20-55537595f46b"
      },
      "source": [
        "type(places)"
      ],
      "execution_count": 8,
      "outputs": [
        {
          "output_type": "execute_result",
          "data": {
            "text/plain": [
              "list"
            ]
          },
          "metadata": {
            "tags": []
          },
          "execution_count": 8
        }
      ]
    },
    {
      "cell_type": "code",
      "metadata": {
        "id": "KHgiJq5RqJzT"
      },
      "source": [
        "dict = {'location':places}"
      ],
      "execution_count": 9,
      "outputs": []
    },
    {
      "cell_type": "code",
      "metadata": {
        "id": "XwFY223qswZq"
      },
      "source": [
        "\n",
        "df = pd.DataFrame(dict)"
      ],
      "execution_count": 10,
      "outputs": []
    },
    {
      "cell_type": "code",
      "metadata": {
        "colab": {
          "base_uri": "https://localhost:8080/",
          "height": 204
        },
        "id": "pUAN0fCG9Hv9",
        "outputId": "368ca281-9314-4948-8f71-06f97a401ed6"
      },
      "source": [
        "df.head()"
      ],
      "execution_count": 11,
      "outputs": [
        {
          "output_type": "execute_result",
          "data": {
            "text/html": [
              "<div>\n",
              "<style scoped>\n",
              "    .dataframe tbody tr th:only-of-type {\n",
              "        vertical-align: middle;\n",
              "    }\n",
              "\n",
              "    .dataframe tbody tr th {\n",
              "        vertical-align: top;\n",
              "    }\n",
              "\n",
              "    .dataframe thead th {\n",
              "        text-align: right;\n",
              "    }\n",
              "</style>\n",
              "<table border=\"1\" class=\"dataframe\">\n",
              "  <thead>\n",
              "    <tr style=\"text-align: right;\">\n",
              "      <th></th>\n",
              "      <th>location</th>\n",
              "    </tr>\n",
              "  </thead>\n",
              "  <tbody>\n",
              "    <tr>\n",
              "      <th>0</th>\n",
              "      <td>1. Anhui: Hongcun Ancient Village (安徽宏村)</td>\n",
              "    </tr>\n",
              "    <tr>\n",
              "      <th>1</th>\n",
              "      <td>2. Anhui: Mount Huangshan (安徽黄山)</td>\n",
              "    </tr>\n",
              "    <tr>\n",
              "      <th>2</th>\n",
              "      <td>3. Fujian: Mount Wuyi (福建武夷山)</td>\n",
              "    </tr>\n",
              "    <tr>\n",
              "      <th>3</th>\n",
              "      <td>4. Fujian: Xiapu Mudflat (福建霞浦)</td>\n",
              "    </tr>\n",
              "    <tr>\n",
              "      <th>4</th>\n",
              "      <td>5. Gansu: Echoing Sand Mountain and Crescent L...</td>\n",
              "    </tr>\n",
              "  </tbody>\n",
              "</table>\n",
              "</div>"
            ],
            "text/plain": [
              "                                            location\n",
              "0           1. Anhui: Hongcun Ancient Village (安徽宏村)\n",
              "1                   2. Anhui: Mount Huangshan (安徽黄山)\n",
              "2                      3. Fujian: Mount Wuyi (福建武夷山)\n",
              "3                    4. Fujian: Xiapu Mudflat (福建霞浦)\n",
              "4  5. Gansu: Echoing Sand Mountain and Crescent L..."
            ]
          },
          "metadata": {
            "tags": []
          },
          "execution_count": 11
        }
      ]
    },
    {
      "cell_type": "code",
      "metadata": {
        "id": "nrVSOQQGFekS"
      },
      "source": [
        "df[['num','places']] = df['location'].str.split('.', n=1, expand=True)"
      ],
      "execution_count": 12,
      "outputs": []
    },
    {
      "cell_type": "code",
      "metadata": {
        "id": "pztYa9jUOlGF"
      },
      "source": [
        "df[['city','places2']] = df['places'].str.split(':', n=1, expand=True)"
      ],
      "execution_count": 13,
      "outputs": []
    },
    {
      "cell_type": "code",
      "metadata": {
        "id": "gmLBRzgLOwp8"
      },
      "source": [
        "df[['English_name', 'Chinese_name']] = df['places2'].str.split('(', n=1, expand=True)"
      ],
      "execution_count": 14,
      "outputs": []
    },
    {
      "cell_type": "code",
      "metadata": {
        "id": "cfF4HLlWQo7I"
      },
      "source": [
        "df[['chi','sign']] = df['Chinese_name'].str.split(')', n=1, expand=True)"
      ],
      "execution_count": 15,
      "outputs": []
    },
    {
      "cell_type": "code",
      "metadata": {
        "colab": {
          "base_uri": "https://localhost:8080/"
        },
        "id": "wZbGO4v0PVgb",
        "outputId": "3f52d305-3014-4efe-a99f-a880c3b1254e"
      },
      "source": [
        "df.columns"
      ],
      "execution_count": 16,
      "outputs": [
        {
          "output_type": "execute_result",
          "data": {
            "text/plain": [
              "Index(['location', 'num', 'places', 'city', 'places2', 'English_name',\n",
              "       'Chinese_name', 'chi', 'sign'],\n",
              "      dtype='object')"
            ]
          },
          "metadata": {
            "tags": []
          },
          "execution_count": 16
        }
      ]
    },
    {
      "cell_type": "code",
      "metadata": {
        "colab": {
          "base_uri": "https://localhost:8080/",
          "height": 111
        },
        "id": "7fJXmmWSRRd8",
        "outputId": "ed33b8fa-8098-4246-e3fb-4d9d2384bd00"
      },
      "source": [
        "df.head(2)"
      ],
      "execution_count": 17,
      "outputs": [
        {
          "output_type": "execute_result",
          "data": {
            "text/html": [
              "<div>\n",
              "<style scoped>\n",
              "    .dataframe tbody tr th:only-of-type {\n",
              "        vertical-align: middle;\n",
              "    }\n",
              "\n",
              "    .dataframe tbody tr th {\n",
              "        vertical-align: top;\n",
              "    }\n",
              "\n",
              "    .dataframe thead th {\n",
              "        text-align: right;\n",
              "    }\n",
              "</style>\n",
              "<table border=\"1\" class=\"dataframe\">\n",
              "  <thead>\n",
              "    <tr style=\"text-align: right;\">\n",
              "      <th></th>\n",
              "      <th>location</th>\n",
              "      <th>num</th>\n",
              "      <th>places</th>\n",
              "      <th>city</th>\n",
              "      <th>places2</th>\n",
              "      <th>English_name</th>\n",
              "      <th>Chinese_name</th>\n",
              "      <th>chi</th>\n",
              "      <th>sign</th>\n",
              "    </tr>\n",
              "  </thead>\n",
              "  <tbody>\n",
              "    <tr>\n",
              "      <th>0</th>\n",
              "      <td>1. Anhui: Hongcun Ancient Village (安徽宏村)</td>\n",
              "      <td>1</td>\n",
              "      <td>Anhui: Hongcun Ancient Village (安徽宏村)</td>\n",
              "      <td>Anhui</td>\n",
              "      <td>Hongcun Ancient Village (安徽宏村)</td>\n",
              "      <td>Hongcun Ancient Village</td>\n",
              "      <td>安徽宏村)</td>\n",
              "      <td>安徽宏村</td>\n",
              "      <td></td>\n",
              "    </tr>\n",
              "    <tr>\n",
              "      <th>1</th>\n",
              "      <td>2. Anhui: Mount Huangshan (安徽黄山)</td>\n",
              "      <td>2</td>\n",
              "      <td>Anhui: Mount Huangshan (安徽黄山)</td>\n",
              "      <td>Anhui</td>\n",
              "      <td>Mount Huangshan (安徽黄山)</td>\n",
              "      <td>Mount Huangshan</td>\n",
              "      <td>安徽黄山)</td>\n",
              "      <td>安徽黄山</td>\n",
              "      <td></td>\n",
              "    </tr>\n",
              "  </tbody>\n",
              "</table>\n",
              "</div>"
            ],
            "text/plain": [
              "                                   location num  ...   chi sign\n",
              "0  1. Anhui: Hongcun Ancient Village (安徽宏村)   1  ...  安徽宏村     \n",
              "1          2. Anhui: Mount Huangshan (安徽黄山)   2  ...  安徽黄山     \n",
              "\n",
              "[2 rows x 9 columns]"
            ]
          },
          "metadata": {
            "tags": []
          },
          "execution_count": 17
        }
      ]
    },
    {
      "cell_type": "code",
      "metadata": {
        "colab": {
          "base_uri": "https://localhost:8080/",
          "height": 111
        },
        "id": "1k0_b-SmPL7E",
        "outputId": "5e5425a1-9173-4b69-af89-fc3ddd0ef81b"
      },
      "source": [
        "feature_drop = ['location', 'num', 'places', 'places2','Chinese_name','sign']\n",
        "#df.drop(['location', 'num', 'places', 'places2'], axis=1)\n",
        "df1 = df.drop(feature_drop, axis=1)\n",
        "df1.head(2)"
      ],
      "execution_count": 18,
      "outputs": [
        {
          "output_type": "execute_result",
          "data": {
            "text/html": [
              "<div>\n",
              "<style scoped>\n",
              "    .dataframe tbody tr th:only-of-type {\n",
              "        vertical-align: middle;\n",
              "    }\n",
              "\n",
              "    .dataframe tbody tr th {\n",
              "        vertical-align: top;\n",
              "    }\n",
              "\n",
              "    .dataframe thead th {\n",
              "        text-align: right;\n",
              "    }\n",
              "</style>\n",
              "<table border=\"1\" class=\"dataframe\">\n",
              "  <thead>\n",
              "    <tr style=\"text-align: right;\">\n",
              "      <th></th>\n",
              "      <th>city</th>\n",
              "      <th>English_name</th>\n",
              "      <th>chi</th>\n",
              "    </tr>\n",
              "  </thead>\n",
              "  <tbody>\n",
              "    <tr>\n",
              "      <th>0</th>\n",
              "      <td>Anhui</td>\n",
              "      <td>Hongcun Ancient Village</td>\n",
              "      <td>安徽宏村</td>\n",
              "    </tr>\n",
              "    <tr>\n",
              "      <th>1</th>\n",
              "      <td>Anhui</td>\n",
              "      <td>Mount Huangshan</td>\n",
              "      <td>安徽黄山</td>\n",
              "    </tr>\n",
              "  </tbody>\n",
              "</table>\n",
              "</div>"
            ],
            "text/plain": [
              "     city               English_name   chi\n",
              "0   Anhui   Hongcun Ancient Village   安徽宏村\n",
              "1   Anhui           Mount Huangshan   安徽黄山"
            ]
          },
          "metadata": {
            "tags": []
          },
          "execution_count": 18
        }
      ]
    },
    {
      "cell_type": "code",
      "metadata": {
        "id": "x87u_zjuTOFy"
      },
      "source": [
        "df1=df1.rename(columns={'chi':'chinese_name'})"
      ],
      "execution_count": 19,
      "outputs": []
    },
    {
      "cell_type": "code",
      "metadata": {
        "colab": {
          "base_uri": "https://localhost:8080/",
          "height": 204
        },
        "id": "kcin7LvNTcAq",
        "outputId": "315f9a82-8b6f-4e06-d7eb-a49979e18a52"
      },
      "source": [
        "# convert all column names to lower case\n",
        "df1.rename(columns=lambda x:x.lower(), inplace=True)\n",
        "df1.head()"
      ],
      "execution_count": 20,
      "outputs": [
        {
          "output_type": "execute_result",
          "data": {
            "text/html": [
              "<div>\n",
              "<style scoped>\n",
              "    .dataframe tbody tr th:only-of-type {\n",
              "        vertical-align: middle;\n",
              "    }\n",
              "\n",
              "    .dataframe tbody tr th {\n",
              "        vertical-align: top;\n",
              "    }\n",
              "\n",
              "    .dataframe thead th {\n",
              "        text-align: right;\n",
              "    }\n",
              "</style>\n",
              "<table border=\"1\" class=\"dataframe\">\n",
              "  <thead>\n",
              "    <tr style=\"text-align: right;\">\n",
              "      <th></th>\n",
              "      <th>city</th>\n",
              "      <th>english_name</th>\n",
              "      <th>chinese_name</th>\n",
              "    </tr>\n",
              "  </thead>\n",
              "  <tbody>\n",
              "    <tr>\n",
              "      <th>0</th>\n",
              "      <td>Anhui</td>\n",
              "      <td>Hongcun Ancient Village</td>\n",
              "      <td>安徽宏村</td>\n",
              "    </tr>\n",
              "    <tr>\n",
              "      <th>1</th>\n",
              "      <td>Anhui</td>\n",
              "      <td>Mount Huangshan</td>\n",
              "      <td>安徽黄山</td>\n",
              "    </tr>\n",
              "    <tr>\n",
              "      <th>2</th>\n",
              "      <td>Fujian</td>\n",
              "      <td>Mount Wuyi</td>\n",
              "      <td>福建武夷山</td>\n",
              "    </tr>\n",
              "    <tr>\n",
              "      <th>3</th>\n",
              "      <td>Fujian</td>\n",
              "      <td>Xiapu Mudflat</td>\n",
              "      <td>福建霞浦</td>\n",
              "    </tr>\n",
              "    <tr>\n",
              "      <th>4</th>\n",
              "      <td>Gansu</td>\n",
              "      <td>Echoing Sand Mountain and Crescent Lake, Dunh...</td>\n",
              "      <td>甘肃省敦煌市鸣沙山和月牙泉</td>\n",
              "    </tr>\n",
              "  </tbody>\n",
              "</table>\n",
              "</div>"
            ],
            "text/plain": [
              "      city                                       english_name   chinese_name\n",
              "0    Anhui                           Hongcun Ancient Village            安徽宏村\n",
              "1    Anhui                                   Mount Huangshan            安徽黄山\n",
              "2   Fujian                                        Mount Wuyi           福建武夷山\n",
              "3   Fujian                                     Xiapu Mudflat            福建霞浦\n",
              "4    Gansu   Echoing Sand Mountain and Crescent Lake, Dunh...  甘肃省敦煌市鸣沙山和月牙泉"
            ]
          },
          "metadata": {
            "tags": []
          },
          "execution_count": 20
        }
      ]
    },
    {
      "cell_type": "code",
      "metadata": {
        "colab": {
          "base_uri": "https://localhost:8080/"
        },
        "id": "zNCp424oFtQh",
        "outputId": "ed62d2cf-72bf-4da7-d5c8-d4e5d15d5448"
      },
      "source": [
        "type(df1)"
      ],
      "execution_count": 21,
      "outputs": [
        {
          "output_type": "execute_result",
          "data": {
            "text/plain": [
              "pandas.core.frame.DataFrame"
            ]
          },
          "metadata": {
            "tags": []
          },
          "execution_count": 21
        }
      ]
    },
    {
      "cell_type": "code",
      "metadata": {
        "colab": {
          "base_uri": "https://localhost:8080/"
        },
        "id": "3Jle9pGxUtJG",
        "outputId": "f2f51c78-9f7b-4f1d-bb86-a666eac48224"
      },
      "source": [
        "df1.shape"
      ],
      "execution_count": 22,
      "outputs": [
        {
          "output_type": "execute_result",
          "data": {
            "text/plain": [
              "(40, 3)"
            ]
          },
          "metadata": {
            "tags": []
          },
          "execution_count": 22
        }
      ]
    },
    {
      "cell_type": "code",
      "metadata": {
        "id": "KtDoKJTjtqwi"
      },
      "source": [
        "df1.to_csv('vacation_list.csv')"
      ],
      "execution_count": 23,
      "outputs": []
    },
    {
      "cell_type": "code",
      "metadata": {
        "colab": {
          "base_uri": "https://localhost:8080/",
          "height": 80
        },
        "id": "8hywAlWRVFhs",
        "outputId": "30c34607-ad25-4ea6-8ef4-a225151a8f43"
      },
      "source": [
        "# randomly select a row\n",
        "df1.sample()"
      ],
      "execution_count": 24,
      "outputs": [
        {
          "output_type": "execute_result",
          "data": {
            "text/html": [
              "<div>\n",
              "<style scoped>\n",
              "    .dataframe tbody tr th:only-of-type {\n",
              "        vertical-align: middle;\n",
              "    }\n",
              "\n",
              "    .dataframe tbody tr th {\n",
              "        vertical-align: top;\n",
              "    }\n",
              "\n",
              "    .dataframe thead th {\n",
              "        text-align: right;\n",
              "    }\n",
              "</style>\n",
              "<table border=\"1\" class=\"dataframe\">\n",
              "  <thead>\n",
              "    <tr style=\"text-align: right;\">\n",
              "      <th></th>\n",
              "      <th>city</th>\n",
              "      <th>english_name</th>\n",
              "      <th>chinese_name</th>\n",
              "    </tr>\n",
              "  </thead>\n",
              "  <tbody>\n",
              "    <tr>\n",
              "      <th>29</th>\n",
              "      <td>Shanxi</td>\n",
              "      <td>Yungang Grottoes</td>\n",
              "      <td>山西云冈石窟</td>\n",
              "    </tr>\n",
              "  </tbody>\n",
              "</table>\n",
              "</div>"
            ],
            "text/plain": [
              "       city        english_name chinese_name\n",
              "29   Shanxi   Yungang Grottoes        山西云冈石窟"
            ]
          },
          "metadata": {
            "tags": []
          },
          "execution_count": 24
        }
      ]
    },
    {
      "cell_type": "markdown",
      "metadata": {
        "id": "pWq9o2sLmGF9"
      },
      "source": [
        "# Chapter 2"
      ]
    },
    {
      "cell_type": "code",
      "metadata": {
        "id": "rnu6Re_-uNFC"
      },
      "source": [
        "url = 'http://www.pythonscraping.com/pages/warandpeace.html'"
      ],
      "execution_count": 25,
      "outputs": []
    },
    {
      "cell_type": "code",
      "metadata": {
        "id": "Wf5wMJFguOfK"
      },
      "source": [
        "info = urllib.request.urlopen(url).read()\n",
        "bs = BeautifulSoup(info, 'html.parser')"
      ],
      "execution_count": 26,
      "outputs": []
    },
    {
      "cell_type": "code",
      "metadata": {
        "colab": {
          "base_uri": "https://localhost:8080/"
        },
        "id": "NPFpyn6xpYiC",
        "outputId": "389e713f-e7c4-4b34-b73e-2443647bca3d"
      },
      "source": [
        "nameList = bs.find_all(text='the prince')\n",
        "len(nameList)"
      ],
      "execution_count": 27,
      "outputs": [
        {
          "output_type": "execute_result",
          "data": {
            "text/plain": [
              "7"
            ]
          },
          "metadata": {
            "tags": []
          },
          "execution_count": 27
        }
      ]
    },
    {
      "cell_type": "code",
      "metadata": {
        "id": "xJNQ321RpdSk"
      },
      "source": [
        "#nameList = bs.find_all('span', {'class':{'green','red'}}) #finds all the green and red text\n",
        "nameList = bs.find_all('span', {'class':'green'}) #finds all the green text\n"
      ],
      "execution_count": 28,
      "outputs": []
    },
    {
      "cell_type": "code",
      "metadata": {
        "id": "OGm1aO4uuDhK"
      },
      "source": [
        "name_list = []\n",
        "for i in nameList:\n",
        "  x = i.getText()\n",
        "  name_list.append(i)"
      ],
      "execution_count": 29,
      "outputs": []
    },
    {
      "cell_type": "code",
      "metadata": {
        "colab": {
          "base_uri": "https://localhost:8080/"
        },
        "id": "qablWEEKuNJ4",
        "outputId": "3ea56ddc-3e6f-451a-ea19-952256e59b45"
      },
      "source": [
        "name_list"
      ],
      "execution_count": 30,
      "outputs": [
        {
          "output_type": "execute_result",
          "data": {
            "text/plain": [
              "[<span class=\"green\">Anna\n",
              " Pavlovna Scherer</span>, <span class=\"green\">Empress Marya\n",
              " Fedorovna</span>, <span class=\"green\">Prince Vasili Kuragin</span>, <span class=\"green\">Anna Pavlovna</span>, <span class=\"green\">St. Petersburg</span>, <span class=\"green\">the prince</span>, <span class=\"green\">Anna Pavlovna</span>, <span class=\"green\">Anna Pavlovna</span>, <span class=\"green\">the prince</span>, <span class=\"green\">the prince</span>, <span class=\"green\">the prince</span>, <span class=\"green\">Prince Vasili</span>, <span class=\"green\">Anna Pavlovna</span>, <span class=\"green\">Anna Pavlovna</span>, <span class=\"green\">the prince</span>, <span class=\"green\">Wintzingerode</span>, <span class=\"green\">King of Prussia</span>, <span class=\"green\">le Vicomte de Mortemart</span>, <span class=\"green\">Montmorencys</span>, <span class=\"green\">Rohans</span>, <span class=\"green\">Abbe Morio</span>, <span class=\"green\">the Emperor</span>, <span class=\"green\">the prince</span>, <span class=\"green\">Prince Vasili</span>, <span class=\"green\">Dowager Empress Marya Fedorovna</span>, <span class=\"green\">the baron</span>, <span class=\"green\">Anna Pavlovna</span>, <span class=\"green\">the Empress</span>, <span class=\"green\">the Empress</span>, <span class=\"green\">Anna Pavlovna's</span>, <span class=\"green\">Her Majesty</span>, <span class=\"green\">Baron\n",
              " Funke</span>, <span class=\"green\">The prince</span>, <span class=\"green\">Anna\n",
              " Pavlovna</span>, <span class=\"green\">the Empress</span>, <span class=\"green\">The prince</span>, <span class=\"green\">Anatole</span>, <span class=\"green\">the prince</span>, <span class=\"green\">The prince</span>, <span class=\"green\">Anna\n",
              " Pavlovna</span>, <span class=\"green\">Anna Pavlovna</span>]"
            ]
          },
          "metadata": {
            "tags": []
          },
          "execution_count": 30
        }
      ]
    },
    {
      "cell_type": "code",
      "metadata": {
        "colab": {
          "base_uri": "https://localhost:8080/"
        },
        "id": "Mpexg7TFxqNq",
        "outputId": "fea2b29b-500c-4d8e-9332-0e1545926b2c"
      },
      "source": [
        "type(nameList)"
      ],
      "execution_count": 31,
      "outputs": [
        {
          "output_type": "execute_result",
          "data": {
            "text/plain": [
              "bs4.element.ResultSet"
            ]
          },
          "metadata": {
            "tags": []
          },
          "execution_count": 31
        }
      ]
    },
    {
      "cell_type": "markdown",
      "metadata": {
        "id": "9t20tp76yk5s"
      },
      "source": [
        "## Navigating Trees"
      ]
    },
    {
      "cell_type": "code",
      "metadata": {
        "id": "xpsA1VN7z0zM"
      },
      "source": [
        "url = 'http://www.pythonscraping.com/pages/page3.html'\n",
        "info = urllib.request.urlopen(url).read()\n",
        "bs = BeautifulSoup(info, 'html.parser')"
      ],
      "execution_count": 32,
      "outputs": []
    },
    {
      "cell_type": "markdown",
      "metadata": {
        "id": "j_Q7zozy4v1Y"
      },
      "source": [
        "Dealing with children and other descendants"
      ]
    },
    {
      "cell_type": "code",
      "metadata": {
        "colab": {
          "base_uri": "https://localhost:8080/"
        },
        "id": "EL_Nlfqep2fP",
        "outputId": "ffa8a239-ca6a-4495-8eb0-3637264ebb39"
      },
      "source": [
        "for i in bs.find('table', {'id':'giftList'}).children:\n",
        "  print(i)"
      ],
      "execution_count": 33,
      "outputs": [
        {
          "output_type": "stream",
          "text": [
            "\n",
            "\n",
            "<tr><th>\n",
            "Item Title\n",
            "</th><th>\n",
            "Description\n",
            "</th><th>\n",
            "Cost\n",
            "</th><th>\n",
            "Image\n",
            "</th></tr>\n",
            "\n",
            "\n",
            "<tr class=\"gift\" id=\"gift1\"><td>\n",
            "Vegetable Basket\n",
            "</td><td>\n",
            "This vegetable basket is the perfect gift for your health conscious (or overweight) friends!\n",
            "<span class=\"excitingNote\">Now with super-colorful bell peppers!</span>\n",
            "</td><td>\n",
            "$15.00\n",
            "</td><td>\n",
            "<img src=\"../img/gifts/img1.jpg\"/>\n",
            "</td></tr>\n",
            "\n",
            "\n",
            "<tr class=\"gift\" id=\"gift2\"><td>\n",
            "Russian Nesting Dolls\n",
            "</td><td>\n",
            "Hand-painted by trained monkeys, these exquisite dolls are priceless! And by \"priceless,\" we mean \"extremely expensive\"! <span class=\"excitingNote\">8 entire dolls per set! Octuple the presents!</span>\n",
            "</td><td>\n",
            "$10,000.52\n",
            "</td><td>\n",
            "<img src=\"../img/gifts/img2.jpg\"/>\n",
            "</td></tr>\n",
            "\n",
            "\n",
            "<tr class=\"gift\" id=\"gift3\"><td>\n",
            "Fish Painting\n",
            "</td><td>\n",
            "If something seems fishy about this painting, it's because it's a fish! <span class=\"excitingNote\">Also hand-painted by trained monkeys!</span>\n",
            "</td><td>\n",
            "$10,005.00\n",
            "</td><td>\n",
            "<img src=\"../img/gifts/img3.jpg\"/>\n",
            "</td></tr>\n",
            "\n",
            "\n",
            "<tr class=\"gift\" id=\"gift4\"><td>\n",
            "Dead Parrot\n",
            "</td><td>\n",
            "This is an ex-parrot! <span class=\"excitingNote\">Or maybe he's only resting?</span>\n",
            "</td><td>\n",
            "$0.50\n",
            "</td><td>\n",
            "<img src=\"../img/gifts/img4.jpg\"/>\n",
            "</td></tr>\n",
            "\n",
            "\n",
            "<tr class=\"gift\" id=\"gift5\"><td>\n",
            "Mystery Box\n",
            "</td><td>\n",
            "If you love suprises, this mystery box is for you! Do not place on light-colored surfaces. May cause oil staining. <span class=\"excitingNote\">Keep your friends guessing!</span>\n",
            "</td><td>\n",
            "$1.50\n",
            "</td><td>\n",
            "<img src=\"../img/gifts/img6.jpg\"/>\n",
            "</td></tr>\n",
            "\n",
            "\n"
          ],
          "name": "stdout"
        }
      ]
    },
    {
      "cell_type": "markdown",
      "metadata": {
        "id": "n5X26Zll4ri7"
      },
      "source": [
        "Deal with silbings"
      ]
    },
    {
      "cell_type": "code",
      "metadata": {
        "colab": {
          "base_uri": "https://localhost:8080/"
        },
        "id": "mxTzdgwWp3EX",
        "outputId": "e5491fcd-13f2-4188-a7e9-e184a9b610a0"
      },
      "source": [
        "for i in bs.find('table', {'id':'giftList'}).tr.next_siblings:\n",
        "  print(i)"
      ],
      "execution_count": 34,
      "outputs": [
        {
          "output_type": "stream",
          "text": [
            "\n",
            "\n",
            "<tr class=\"gift\" id=\"gift1\"><td>\n",
            "Vegetable Basket\n",
            "</td><td>\n",
            "This vegetable basket is the perfect gift for your health conscious (or overweight) friends!\n",
            "<span class=\"excitingNote\">Now with super-colorful bell peppers!</span>\n",
            "</td><td>\n",
            "$15.00\n",
            "</td><td>\n",
            "<img src=\"../img/gifts/img1.jpg\"/>\n",
            "</td></tr>\n",
            "\n",
            "\n",
            "<tr class=\"gift\" id=\"gift2\"><td>\n",
            "Russian Nesting Dolls\n",
            "</td><td>\n",
            "Hand-painted by trained monkeys, these exquisite dolls are priceless! And by \"priceless,\" we mean \"extremely expensive\"! <span class=\"excitingNote\">8 entire dolls per set! Octuple the presents!</span>\n",
            "</td><td>\n",
            "$10,000.52\n",
            "</td><td>\n",
            "<img src=\"../img/gifts/img2.jpg\"/>\n",
            "</td></tr>\n",
            "\n",
            "\n",
            "<tr class=\"gift\" id=\"gift3\"><td>\n",
            "Fish Painting\n",
            "</td><td>\n",
            "If something seems fishy about this painting, it's because it's a fish! <span class=\"excitingNote\">Also hand-painted by trained monkeys!</span>\n",
            "</td><td>\n",
            "$10,005.00\n",
            "</td><td>\n",
            "<img src=\"../img/gifts/img3.jpg\"/>\n",
            "</td></tr>\n",
            "\n",
            "\n",
            "<tr class=\"gift\" id=\"gift4\"><td>\n",
            "Dead Parrot\n",
            "</td><td>\n",
            "This is an ex-parrot! <span class=\"excitingNote\">Or maybe he's only resting?</span>\n",
            "</td><td>\n",
            "$0.50\n",
            "</td><td>\n",
            "<img src=\"../img/gifts/img4.jpg\"/>\n",
            "</td></tr>\n",
            "\n",
            "\n",
            "<tr class=\"gift\" id=\"gift5\"><td>\n",
            "Mystery Box\n",
            "</td><td>\n",
            "If you love suprises, this mystery box is for you! Do not place on light-colored surfaces. May cause oil staining. <span class=\"excitingNote\">Keep your friends guessing!</span>\n",
            "</td><td>\n",
            "$1.50\n",
            "</td><td>\n",
            "<img src=\"../img/gifts/img6.jpg\"/>\n",
            "</td></tr>\n",
            "\n",
            "\n"
          ],
          "name": "stdout"
        }
      ]
    },
    {
      "cell_type": "markdown",
      "metadata": {
        "id": "33UO4Tq15oyu"
      },
      "source": [
        "Dealing with parents"
      ]
    },
    {
      "cell_type": "code",
      "metadata": {
        "colab": {
          "base_uri": "https://localhost:8080/"
        },
        "id": "Frsm9eEQ3uhD",
        "outputId": "2a4b64cf-b1f0-4cc0-d9a8-f3dab0a4f1f9"
      },
      "source": [
        "print(bs.find('img', {'src':'../img/gifts/img1.jpg'}).parent.previous_sibling.get_text())"
      ],
      "execution_count": 35,
      "outputs": [
        {
          "output_type": "stream",
          "text": [
            "\n",
            "$15.00\n",
            "\n"
          ],
          "name": "stdout"
        }
      ]
    },
    {
      "cell_type": "markdown",
      "metadata": {
        "id": "ENYRfyFL7YAu"
      },
      "source": [
        "# Chapter 3 - Web Crawler"
      ]
    },
    {
      "cell_type": "code",
      "metadata": {
        "id": "uM78pNFg9daj"
      },
      "source": [
        "import re"
      ],
      "execution_count": 36,
      "outputs": []
    },
    {
      "cell_type": "code",
      "metadata": {
        "id": "A0CiGdLB5-Vd"
      },
      "source": [
        "url = 'http://en.wikipedia.org/wiki/Kevin_Bacon'\n",
        "data = urllib.request.urlopen(url).read()\n",
        "fhand = BeautifulSoup(data, 'html.parser')"
      ],
      "execution_count": 37,
      "outputs": []
    },
    {
      "cell_type": "markdown",
      "metadata": {
        "id": "eTVHpROVAdlZ"
      },
      "source": [
        "\n",
        "The below code will output a list of links that we need to go into."
      ]
    },
    {
      "cell_type": "code",
      "metadata": {
        "colab": {
          "base_uri": "https://localhost:8080/"
        },
        "id": "1IiemML-8Zbq",
        "outputId": "1e66079e-04c6-4972-bf28-a72528be99f6"
      },
      "source": [
        "links = []\n",
        "for link in fhand.find('div', {'id':'bodyContent'}).find_all('a', href=re.compile('^(/wiki/)((?!:).)*$')):\n",
        "  if 'href' in link.attrs:\n",
        "    x = link.attrs['href']\n",
        "    links.append(x)\n",
        "print(links)"
      ],
      "execution_count": 38,
      "outputs": [
        {
          "output_type": "stream",
          "text": [
            "['/wiki/Kevin_Bacon_(disambiguation)', '/wiki/Philadelphia,_Pennsylvania', '/wiki/Kyra_Sedgwick', '/wiki/Sosie_Bacon', '/wiki/Edmund_Bacon_(architect)', '/wiki/Michael_Bacon_(musician)', '/wiki/Holly_Near', '/wiki/Footloose_(1984_film)', '/wiki/JFK_(film)', '/wiki/A_Few_Good_Men', '/wiki/Apollo_13_(film)', '/wiki/Mystic_River_(film)', '/wiki/Balto_(film)', '/wiki/Sleepers', '/wiki/The_Woodsman_(2004_film)', '/wiki/Animal_House', '/wiki/Diner_(1982_film)', '/wiki/Tremors_(1990_film)', '/wiki/Crazy,_Stupid,_Love', '/wiki/Friday_the_13th_(1980_film)', '/wiki/Flatliners', '/wiki/The_River_Wild', '/wiki/Wild_Things_(film)', '/wiki/Stir_of_Echoes', '/wiki/Hollow_Man', '/wiki/Frost/Nixon_(film)', '/wiki/Black_Mass_(film)', '/wiki/Patriots_Day_(film)', '/wiki/Fox_Broadcasting_Company', '/wiki/The_Following', '/wiki/HBO', '/wiki/Taking_Chance', '/wiki/Golden_Globe_Award', '/wiki/Screen_Actors_Guild_Award', '/wiki/Primetime_Emmy_Award', '/wiki/I_Love_Dick_(TV_series)', '/wiki/Golden_Globe_Award_for_Best_Actor_%E2%80%93_Television_Series_Musical_or_Comedy', '/wiki/The_Guardian', '/wiki/Academy_Award', '/wiki/Hollywood_Walk_of_Fame', '/wiki/Social_networking_service', '/wiki/Six_Degrees_of_Kevin_Bacon', '/wiki/SixDegrees.org', '/wiki/Philadelphia', '/wiki/Edmund_Bacon_(architect)', '/wiki/Julia_R._Masterman_High_School', '/wiki/Pennsylvania_Governor%27s_School_for_the_Arts', '/wiki/Bucknell_University', '/wiki/Glory_Van_Scott', '/wiki/Circle_in_the_Square', '/wiki/Nancy_Mills', '/wiki/Cosmopolitan_(magazine)', '/wiki/Fraternities_and_sororities', '/wiki/Animal_House', '/wiki/Search_for_Tomorrow', '/wiki/Guiding_Light', '/wiki/Friday_the_13th_(1980_film)', '/wiki/Phoenix_Theater', '/wiki/Flux', '/wiki/Second_Stage_Theatre', '/wiki/Obie_Award', '/wiki/Forty_Deuce', '/wiki/Slab_Boys', '/wiki/Sean_Penn', '/wiki/Val_Kilmer', '/wiki/Barry_Levinson', '/wiki/Diner_(1982_film)', '/wiki/Steve_Guttenberg', '/wiki/Daniel_Stern_(actor)', '/wiki/Mickey_Rourke', '/wiki/Tim_Daly', '/wiki/Ellen_Barkin', '/wiki/Footloose_(1984_film)', '/wiki/James_Dean', '/wiki/Rebel_Without_a_Cause', '/wiki/Mickey_Rooney', '/wiki/Judy_Garland', '/wiki/Typecasting_(acting)', '/wiki/John_Hughes_(filmmaker)', '/wiki/She%27s_Having_a_Baby', '/wiki/The_Big_Picture_(1989_film)', '/wiki/Tremors_(1990_film)', '/wiki/Joel_Schumacher', '/wiki/Flatliners', '/wiki/Elizabeth_Perkins', '/wiki/He_Said,_She_Said_(film)', '/wiki/The_New_York_Times', '/wiki/Oliver_Stone', '/wiki/JFK_(film)', '/wiki/A_Few_Good_Men_(film)', '/wiki/Michael_Greif', '/wiki/Golden_Globe_Award', '/wiki/The_River_Wild', '/wiki/Meryl_Streep', '/wiki/Murder_in_the_First_(film)', '/wiki/Blockbuster_(entertainment)', '/wiki/Apollo_13_(film)', '/wiki/Sleepers_(film)', '/wiki/Picture_Perfect_(1997_film)', '/wiki/Losing_Chase', '/wiki/Digging_to_China', '/wiki/Payola', '/wiki/Telling_Lies_in_America_(film)', '/wiki/Wild_Things_(film)', '/wiki/Stir_of_Echoes', '/wiki/David_Koepp', '/wiki/Cannes_Film_Festival', '/wiki/Paul_Verhoeven', '/wiki/Hollow_Man', '/wiki/Colin_Firth', '/wiki/Rachel_Blanchard', '/wiki/M%C3%A9nage_%C3%A0_trois', '/wiki/Where_the_Truth_Lies', '/wiki/Atom_Egoyan', '/wiki/MPAA', '/wiki/MPAA_film_rating_system', '/wiki/Sean_Penn', '/wiki/Tim_Robbins', '/wiki/Clint_Eastwood', '/wiki/Mystic_River_(film)', '/wiki/The_Woodsman_(2004_film)', '/wiki/HBO_Films', '/wiki/Taking_Chance', '/wiki/Michael_Strobl', '/wiki/Desert_Storm', '/wiki/Screen_Actors_Guild_Award_for_Outstanding_Performance_by_a_Male_Actor_in_a_Miniseries_or_Television_Movie', '/wiki/Toronto_Film_Festival', '/wiki/Matthew_Vaughn', '/wiki/Sebastian_Shaw_(comics)', '/wiki/Dustin_Lance_Black', '/wiki/8_(play)', '/wiki/Perry_v._Brown', '/wiki/Proposition_8', '/wiki/Charles_J._Cooper', '/wiki/Wilshire_Ebell_Theatre', '/wiki/American_Foundation_for_Equal_Rights', '/wiki/The_Following', '/wiki/Saturn_Award_for_Best_Actor_on_Television', '/wiki/Huffington_Post', '/wiki/Tremors_(1990_film)', '/wiki/EE_(telecommunications_company)', '/wiki/Kyra_Sedgwick', '/wiki/PBS', '/wiki/Lanford_Wilson', '/wiki/Lemon_Sky', '/wiki/Pyrates', '/wiki/Murder_in_the_First_(film)', '/wiki/The_Woodsman_(2004_film)', '/wiki/Loverboy_(2005_film)', '/wiki/Sosie_Bacon', '/wiki/Upper_West_Side', '/wiki/Manhattan', '/wiki/Tracy_Pollan', '/wiki/The_Times', '/wiki/Will.i.am', '/wiki/It%27s_a_New_Day_(Will.i.am_song)', '/wiki/Barack_Obama', '/wiki/Ponzi_scheme', '/wiki/Bernie_Madoff', '/wiki/Finding_Your_Roots', '/wiki/Henry_Louis_Gates', '/wiki/Six_Degrees_of_Kevin_Bacon', '/wiki/Trivia', '/wiki/Big_screen', '/wiki/Six_degrees_of_separation', '/wiki/Internet_meme', '/wiki/SixDegrees.org', '/wiki/Social_networking_service', '/wiki/Six_Degrees_of_Kevin_Bacon', '/wiki/IMDb', '/wiki/Paul_Erd%C5%91s', '/wiki/Erd%C5%91s_number', '/wiki/Paul_Erd%C5%91s', '/wiki/Erd%C5%91s_number', '/wiki/Erd%C5%91s%E2%80%93Bacon_number', '/wiki/The_Bacon_Brothers', '/wiki/Michael_Bacon_(musician)', '/wiki/Hollywood_Walk_of_Fame', '/wiki/Hollywood_Walk_of_Fame', '/wiki/Denver_Film_Festival', '/wiki/Phoenix_Film_Festival', '/wiki/Santa_Barbara_International_Film_Festival', '/wiki/Broadcast_Film_Critics_Association', '/wiki/Seattle_International_Film_Festival', '/wiki/Apollo_13_(film)', '/wiki/Mystic_River_(film)', '/wiki/Blockbuster_Entertainment_Awards', '/wiki/Blockbuster_Entertainment_Awards', '/wiki/Hollow_Man', '/wiki/Boston_Society_of_Film_Critics', '/wiki/Boston_Society_of_Film_Critics_Award_for_Best_Cast', '/wiki/Mystic_River_(film)', '/wiki/Bravo_Otto', '/wiki/Bravo_Otto', '/wiki/Footloose_(1984_film)', '/wiki/CableACE_Award', '/wiki/CableACE_Award', '/wiki/Losing_Chase', '/wiki/Chlotrudis_Awards', '/wiki/The_Woodsman_(2004_film)', '/wiki/Critics%27_Choice_Movie_Awards', '/wiki/Critics%27_Choice_Movie_Award_for_Best_Actor', '/wiki/Murder_in_the_First_(film)', '/wiki/Ghent_International_Film_Festival', '/wiki/Ghent_International_Film_Festival', '/wiki/The_Woodsman_(2004_film)', '/wiki/Giffoni_Film_Festival', '/wiki/Giffoni_Film_Festival', '/wiki/Digging_to_China', '/wiki/Mystic_River_(film)', '/wiki/Golden_Globe_Award', '/wiki/Golden_Globe_Award_for_Best_Supporting_Actor_%E2%80%93_Motion_Picture', '/wiki/The_River_Wild', '/wiki/Golden_Globe_Award_for_Best_Actor_%E2%80%93_Miniseries_or_Television_Film', '/wiki/Taking_Chance', '/wiki/Golden_Globe_Award_for_Best_Actor_%E2%80%93_Television_Series_Musical_or_Comedy', '/wiki/I_Love_Dick_(TV_series)', '/wiki/Independent_Spirit_Awards', '/wiki/Independent_Spirit_Award_for_Best_Male_Lead', '/wiki/The_Woodsman_(2004_film)', '/wiki/Mystic_River_(film)', '/wiki/MTV_Movie_%26_TV_Awards', '/wiki/MTV_Movie_Award_for_Best_Villain', '/wiki/Hollow_Man', '/wiki/Taking_Chance', '/wiki/The_Following', '/wiki/E!_People%27s_Choice_Awards', '/wiki/E!_People%27s_Choice_Awards', '/wiki/The_Following', '/wiki/E!_People%27s_Choice_Awards', '/wiki/The_Following', '/wiki/Primetime_Emmy_Award', '/wiki/Primetime_Emmy_Award_for_Outstanding_Lead_Actor_in_a_Limited_Series_or_Movie', '/wiki/Taking_Chance', '/wiki/Satellite_Awards', '/wiki/Satellite_Award_for_Best_Actor_%E2%80%93_Motion_Picture', '/wiki/The_Woodsman_(2004_film)', '/wiki/Satellite_Award_for_Best_Actor_%E2%80%93_Miniseries_or_Television_Film', '/wiki/Taking_Chance', '/wiki/Saturn_Award', '/wiki/Saturn_Award_for_Best_Actor_on_Television', '/wiki/The_Following', '/wiki/Saturn_Award_for_Best_Actor_on_Television', '/wiki/The_Following', '/wiki/Scream_Awards', '/wiki/Scream_Awards', '/wiki/Screen_Actors_Guild_Award', '/wiki/Screen_Actors_Guild_Award_for_Outstanding_Performance_by_a_Male_Actor_in_a_Supporting_Role', '/wiki/Murder_in_the_First_(film)', '/wiki/Screen_Actors_Guild_Award_for_Outstanding_Performance_by_a_Cast_in_a_Motion_Picture', '/wiki/Apollo_13_(film)', '/wiki/Screen_Actors_Guild_Award_for_Outstanding_Performance_by_a_Cast_in_a_Motion_Picture', '/wiki/Mystic_River_(film)', '/wiki/Screen_Actors_Guild_Award_for_Outstanding_Performance_by_a_Cast_in_a_Motion_Picture', '/wiki/Frost/Nixon_(film)', '/wiki/Screen_Actors_Guild_Award_for_Outstanding_Performance_by_a_Male_Actor_in_a_Miniseries_or_Television_Movie', '/wiki/Taking_Chance', '/wiki/Teen_Choice_Awards', '/wiki/Teen_Choice_Award_for_Choice_Movie_Villain', '/wiki/Beauty_Shop', '/wiki/Teen_Choice_Award_for_Choice_Movie_Villain', '/wiki/TV_Guide_Award', '/wiki/TV_Guide_Award', '/wiki/The_Following', '/wiki/Kevin_Bacon_filmography', '/wiki/List_of_actors_with_Hollywood_Walk_of_Fame_motion_picture_stars', '/wiki/The_Austin_Chronicle', '/wiki/Access_Hollywood', '/wiki/IMDb', '/wiki/Internet_Broadway_Database', '/wiki/Lortel_Archives', '/wiki/AllMovie', '/wiki/Kevin_Bacon_filmography', '/wiki/Losing_Chase', '/wiki/Loverboy_(2005_film)', '/wiki/Six_Degrees_of_Kevin_Bacon', '/wiki/Erd%C5%91s%E2%80%93Bacon_number', '/wiki/SixDegrees.org', '/wiki/Critics%27_Choice_Movie_Award_for_Best_Actor', '/wiki/Geoffrey_Rush', '/wiki/Jack_Nicholson', '/wiki/Ian_McKellen', '/wiki/Russell_Crowe', '/wiki/Russell_Crowe', '/wiki/Russell_Crowe', '/wiki/Daniel_Day-Lewis', '/wiki/Jack_Nicholson', '/wiki/Sean_Penn', '/wiki/Jamie_Foxx', '/wiki/Philip_Seymour_Hoffman', '/wiki/Forest_Whitaker', '/wiki/Daniel_Day-Lewis', '/wiki/Sean_Penn', '/wiki/Jeff_Bridges', '/wiki/Colin_Firth', '/wiki/George_Clooney', '/wiki/Daniel_Day-Lewis', '/wiki/Matthew_McConaughey', '/wiki/Michael_Keaton', '/wiki/Leonardo_DiCaprio', '/wiki/Casey_Affleck', '/wiki/Gary_Oldman', '/wiki/Christian_Bale', '/wiki/Joaquin_Phoenix', '/wiki/Golden_Globe_Award_for_Best_Actor_%E2%80%93_Miniseries_or_Television_Film', '/wiki/Mickey_Rooney', '/wiki/Anthony_Andrews', '/wiki/Richard_Chamberlain', '/wiki/Ted_Danson', '/wiki/Dustin_Hoffman', '/wiki/James_Woods', '/wiki/Randy_Quaid', '/wiki/Michael_Caine', '/wiki/Stacy_Keach', '/wiki/Robert_Duvall', '/wiki/James_Garner', '/wiki/Beau_Bridges', '/wiki/Robert_Duvall', '/wiki/James_Garner', '/wiki/Raul_Julia', '/wiki/Gary_Sinise', '/wiki/Alan_Rickman', '/wiki/Ving_Rhames', '/wiki/Stanley_Tucci', '/wiki/Jack_Lemmon', '/wiki/Brian_Dennehy', '/wiki/James_Franco', '/wiki/Albert_Finney', '/wiki/Al_Pacino', '/wiki/Geoffrey_Rush', '/wiki/Jonathan_Rhys_Meyers', '/wiki/Bill_Nighy', '/wiki/Jim_Broadbent', '/wiki/Paul_Giamatti', '/wiki/Al_Pacino', '/wiki/Idris_Elba', '/wiki/Kevin_Costner', '/wiki/Michael_Douglas', '/wiki/Billy_Bob_Thornton', '/wiki/Oscar_Isaac', '/wiki/Tom_Hiddleston', '/wiki/Ewan_McGregor', '/wiki/Darren_Criss', '/wiki/Russell_Crowe', '/wiki/Saturn_Award_for_Best_Actor_on_Television', '/wiki/Kyle_Chandler', '/wiki/Steven_Weber_(actor)', '/wiki/Richard_Dean_Anderson', '/wiki/David_Boreanaz', '/wiki/Robert_Patrick', '/wiki/Ben_Browder', '/wiki/David_Boreanaz', '/wiki/David_Boreanaz', '/wiki/Ben_Browder', '/wiki/Matthew_Fox', '/wiki/Michael_C._Hall', '/wiki/Matthew_Fox', '/wiki/Edward_James_Olmos', '/wiki/Josh_Holloway', '/wiki/Stephen_Moyer', '/wiki/Bryan_Cranston', '/wiki/Bryan_Cranston', '/wiki/Mads_Mikkelsen', '/wiki/Hugh_Dancy', '/wiki/Andrew_Lincoln', '/wiki/Bruce_Campbell', '/wiki/Andrew_Lincoln', '/wiki/Kyle_MacLachlan', '/wiki/Sam_Heughan', '/wiki/Screen_Actors_Guild_Award_for_Outstanding_Performance_by_a_Male_Actor_in_a_Miniseries_or_Television_Movie', '/wiki/Raul_Julia', '/wiki/Gary_Sinise', '/wiki/Alan_Rickman', '/wiki/Gary_Sinise', '/wiki/Christopher_Reeve', '/wiki/Jack_Lemmon', '/wiki/Brian_Dennehy', '/wiki/Ben_Kingsley', '/wiki/William_H._Macy', '/wiki/Al_Pacino', '/wiki/Geoffrey_Rush', '/wiki/Paul_Newman', '/wiki/Jeremy_Irons', '/wiki/Kevin_Kline', '/wiki/Paul_Giamatti', '/wiki/Al_Pacino', '/wiki/Paul_Giamatti', '/wiki/Kevin_Costner', '/wiki/Michael_Douglas', '/wiki/Mark_Ruffalo', '/wiki/Idris_Elba', '/wiki/Bryan_Cranston', '/wiki/Alexander_Skarsg%C3%A5rd', '/wiki/Darren_Criss', '/wiki/Sam_Rockwell', '/wiki/BIBSYS_(identifier)', '/wiki/BNE_(identifier)', '/wiki/BNF_(identifier)', '/wiki/GND_(identifier)', '/wiki/ISNI_(identifier)', '/wiki/LCCN_(identifier)', '/wiki/LNB_(identifier)', '/wiki/MBA_(identifier)', '/wiki/NKC_(identifier)', '/wiki/NLA_(identifier)', '/wiki/NLI_(identifier)', '/wiki/NLP_(identifier)', '/wiki/NTA_(identifier)', '/wiki/PLWABN_(identifier)', '/wiki/RERO_(identifier)', '/wiki/SNAC-ID_(identifier)', '/wiki/SUDOC_(identifier)', '/wiki/Trove_(identifier)', '/wiki/VIAF_(identifier)', '/wiki/WorldCat_Identities_(identifier)']\n"
          ],
          "name": "stdout"
        }
      ]
    },
    {
      "cell_type": "markdown",
      "metadata": {
        "id": "NhfPRUSxAkha"
      },
      "source": [
        "We are going to write a function called getLinks using the codes above.\n",
        "- The function will take each of the URL above in the form /wiki/... and returns a list of URL in the same form.\n",
        "- Then a random article link will be chosen from the returned list. It will stop once you stop the program or no new links are found on the page."
      ]
    },
    {
      "cell_type": "code",
      "metadata": {
        "id": "FH6UGh186bnJ"
      },
      "source": [
        "from urllib.request import urlopen\n",
        "import random\n",
        "import re\n",
        "import datetime"
      ],
      "execution_count": 39,
      "outputs": []
    },
    {
      "cell_type": "code",
      "metadata": {
        "id": "3kesE58F7ph7"
      },
      "source": [
        "random.seed(datetime.datetime.now())\n",
        "def getLinks(articleUrl):\n",
        "  html = urlopen('http://en.wikipedia.org{}'.format(articleUrl))\n",
        "  bs = BeautifulSoup(html, 'html.parser')\n",
        "  return bs.find('div', {'id':'bodyContent'}).find_all('a', href=re.compile('^(/wiki/)((?!:).)*$'))"
      ],
      "execution_count": 40,
      "outputs": []
    },
    {
      "cell_type": "code",
      "metadata": {
        "id": "cf7V4-oXNFyr"
      },
      "source": [
        "#\n",
        "links = getLinks('/wiki/Kevin_Bacon')\n",
        "while len(links) in range(0,10):\n",
        "  newArticle = links[random.randint(0, len(links)-1)].attrs['href']\n",
        "  print(newArticle)"
      ],
      "execution_count": 41,
      "outputs": []
    },
    {
      "cell_type": "markdown",
      "metadata": {
        "id": "Qa3pLHy468rx"
      },
      "source": [
        "Crawling entire site"
      ]
    },
    {
      "cell_type": "code",
      "metadata": {
        "id": "7TsAERfPUn4M"
      },
      "source": [
        "from urllib.request import urlopen\n",
        "from bs4 import BeautifulSoup\n",
        "import re\n",
        "pages = set()\n",
        "def getLinks(pageUrl):\n",
        "  global pages\n",
        "  html = urlopen('http://en.wikipedia.org{}'.format(pageUrl))\n",
        "  bs = BeautifulSoup(html, 'html.parser')\n",
        "  try:\n",
        "    print(bs.h1.get_text())\n",
        "    print(bs.find(id ='mw-content-text').find_all('p')[0])\n",
        "    print(bs.find(id='ca-edit').find('span').find('a').attrs['href'])\n",
        "  except AttributeError:\n",
        "    print('This page is missing something! Continuing.')\n",
        "  \n",
        "  for link in bs.find_all('a', href=re.compile('^(/wiki/)')):\n",
        "    if 'href' in link.attrs:\n",
        "      if link.attrs['href'] not in pages:\n",
        "        #We have encountered a new page\n",
        "        newPage = link.attrs['href']\n",
        "        print('-'*20)\n",
        "        print(newPage)\n",
        "        pages.add(newPage)\n",
        "        getLinks(newPage)\n",
        "#getLinks('')"
      ],
      "execution_count": 42,
      "outputs": []
    },
    {
      "cell_type": "code",
      "metadata": {
        "id": "wmTxIhQ77auP"
      },
      "source": [
        "import urllib.request, urllib.parse, urllib.error\n",
        "from bs4 import BeautifulSoup\n",
        "\n",
        "url = 'https://news.ycombinator.com/'\n",
        "data = urllib.request.urlopen(url).read()\n",
        "soup = BeautifulSoup(data, 'html.parser')\n"
      ],
      "execution_count": 43,
      "outputs": []
    },
    {
      "cell_type": "code",
      "metadata": {
        "id": "ryL4CvLl7txr",
        "colab": {
          "base_uri": "https://localhost:8080/"
        },
        "outputId": "a615a9df-3c37-4a6a-c419-293476814796"
      },
      "source": [
        "name = soup.find_all('a', 'href')\n",
        "print(name)"
      ],
      "execution_count": 44,
      "outputs": [
        {
          "output_type": "stream",
          "text": [
            "[]\n"
          ],
          "name": "stdout"
        }
      ]
    },
    {
      "cell_type": "markdown",
      "metadata": {
        "id": "SBRL4uZcY3GS"
      },
      "source": [
        "# Amazon Price"
      ]
    },
    {
      "cell_type": "code",
      "metadata": {
        "id": "dBwo-ohmYvT6"
      },
      "source": [
        "import lxml\n",
        "import requests\n",
        "from bs4 import BeautifulSoup"
      ],
      "execution_count": 45,
      "outputs": []
    },
    {
      "cell_type": "code",
      "metadata": {
        "id": "Kgb1k5nuZCjM"
      },
      "source": [
        "url = 'https://www.amazon.com/gp/product/B07RKYQGG4?pf_rd_r=4B2JNCJTA40ZZRWNQD8X&pf_rd_p=5ae2c7f8-e0c6-4f35-9071-dc3240e894a8'\n",
        "header = {\n",
        "    \"User-Agent\": \"Mozilla/5.0 (Macintosh; Intel Mac OS X 10_15_7) AppleWebKit/537.36 (KHTML, like Gecko) Chrome/87.0.4280.88 Safari/537.36\",\n",
        "    \"Accept-Language\": \"en-US,en;q=0.9\"\n",
        "}\n"
      ],
      "execution_count": 46,
      "outputs": []
    },
    {
      "cell_type": "code",
      "metadata": {
        "id": "MgnO3ZPSbLKw"
      },
      "source": [
        "data = requests.get(url, headers = header)\n",
        "soup = BeautifulSoup(data.content, 'lxml')"
      ],
      "execution_count": 47,
      "outputs": []
    },
    {
      "cell_type": "code",
      "metadata": {
        "colab": {
          "base_uri": "https://localhost:8080/"
        },
        "id": "2TahivlVccT6",
        "outputId": "8f999753-7ddb-46fa-f6d6-3c51114542a7"
      },
      "source": [
        "price = soup.find('span', class_=\"a-size-medium a-color-price priceBlockBuyingPriceString\").get_text()\n",
        "print(price)\n",
        "#<span id=\"priceblock_ourprice\" class=\"a-size-medium a-color-price priceBlockBuyingPriceString\">$29.99</span>"
      ],
      "execution_count": 48,
      "outputs": [
        {
          "output_type": "stream",
          "text": [
            "$29.99\n"
          ],
          "name": "stdout"
        }
      ]
    },
    {
      "cell_type": "code",
      "metadata": {
        "colab": {
          "base_uri": "https://localhost:8080/"
        },
        "id": "ACvmHc0Jcfi-",
        "outputId": "55e9b3ab-1c08-4d65-899f-66470fcdcd19"
      },
      "source": [
        "price_num = float(price.split('$')[1])\n",
        "print(price_num)"
      ],
      "execution_count": 49,
      "outputs": [
        {
          "output_type": "stream",
          "text": [
            "29.99\n"
          ],
          "name": "stdout"
        }
      ]
    },
    {
      "cell_type": "code",
      "metadata": {
        "colab": {
          "base_uri": "https://localhost:8080/"
        },
        "id": "GLkJWqu3hSL5",
        "outputId": "8ec801a8-03a7-4be6-fc95-eb692569e86b"
      },
      "source": [
        "type(price_num)"
      ],
      "execution_count": 50,
      "outputs": [
        {
          "output_type": "execute_result",
          "data": {
            "text/plain": [
              "float"
            ]
          },
          "metadata": {
            "tags": []
          },
          "execution_count": 50
        }
      ]
    },
    {
      "cell_type": "code",
      "metadata": {
        "id": "bzlefyUhhevT"
      },
      "source": [
        ""
      ],
      "execution_count": 50,
      "outputs": []
    }
  ]
}