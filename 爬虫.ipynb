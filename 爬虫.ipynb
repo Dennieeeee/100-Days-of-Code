{
  "nbformat": 4,
  "nbformat_minor": 0,
  "metadata": {
    "colab": {
      "name": "爬虫.ipynb",
      "provenance": [],
      "collapsed_sections": [],
      "authorship_tag": "ABX9TyPoMDVzIzisR8HK9RNcd7MS",
      "include_colab_link": true
    },
    "kernelspec": {
      "name": "python3",
      "display_name": "Python 3"
    }
  },
  "cells": [
    {
      "cell_type": "markdown",
      "metadata": {
        "id": "view-in-github",
        "colab_type": "text"
      },
      "source": [
        "<a href=\"https://colab.research.google.com/github/Dennieeeee/100-Days-of-Code/blob/main/%E7%88%AC%E8%99%AB.ipynb\" target=\"_parent\"><img src=\"https://colab.research.google.com/assets/colab-badge.svg\" alt=\"Open In Colab\"/></a>"
      ]
    },
    {
      "cell_type": "code",
      "metadata": {
        "id": "FnBvDBUtGgNl"
      },
      "source": [
        "import urllib.request, urllib.parse, urllib.error\n",
        "from bs4 import BeautifulSoup"
      ],
      "execution_count": 1,
      "outputs": []
    },
    {
      "cell_type": "code",
      "metadata": {
        "id": "6YDVAVCNHeSJ"
      },
      "source": [
        "url = 'https://www.cnn.com/travel/article/china-beautiful-places/index.html'"
      ],
      "execution_count": 2,
      "outputs": []
    },
    {
      "cell_type": "code",
      "metadata": {
        "id": "iZD9wrd7Hjir"
      },
      "source": [
        "html = urllib.request.urlopen(url).read()"
      ],
      "execution_count": 3,
      "outputs": []
    },
    {
      "cell_type": "code",
      "metadata": {
        "id": "npeV-03oHoJW"
      },
      "source": [
        "soup = BeautifulSoup(html, 'html.parser')"
      ],
      "execution_count": 4,
      "outputs": []
    },
    {
      "cell_type": "code",
      "metadata": {
        "id": "O_1YA6vlHsF5"
      },
      "source": [
        "tags = soup('h3')"
      ],
      "execution_count": 8,
      "outputs": []
    },
    {
      "cell_type": "code",
      "metadata": {
        "colab": {
          "base_uri": "https://localhost:8080/",
          "height": 35
        },
        "id": "APO8K0dQHs_e",
        "outputId": "bfbf0a90-2b8b-4002-c79d-4975ff3ef008"
      },
      "source": [
        "'''\n",
        "for tag in tags:\n",
        "  x = print(tag.contents[0])\n",
        "  names.append(x)\n",
        "'''"
      ],
      "execution_count": 12,
      "outputs": [
        {
          "output_type": "execute_result",
          "data": {
            "application/vnd.google.colaboratory.intrinsic+json": {
              "type": "string"
            },
            "text/plain": [
              "'\\nfor tag in tags:\\n  x = print(tag.contents[0])\\n  names.append(x)\\n'"
            ]
          },
          "metadata": {
            "tags": []
          },
          "execution_count": 12
        }
      ]
    },
    {
      "cell_type": "code",
      "metadata": {
        "colab": {
          "base_uri": "https://localhost:8080/"
        },
        "id": "dac8EvmApI0Z",
        "outputId": "84bb4d54-3368-4ac8-a612-e5d59ddff8bf"
      },
      "source": [
        "s = ['28.', 'Shandong:', 'Trestle', 'Bridge,', 'Qingdao', '(山东青岛栈桥)']\n",
        "print(s)\n",
        "print(s[5])"
      ],
      "execution_count": null,
      "outputs": [
        {
          "output_type": "stream",
          "text": [
            "['28.', 'Shandong:', 'Trestle', 'Bridge,', 'Qingdao', '(山东青岛栈桥)']\n",
            "(山东青岛栈桥)\n"
          ],
          "name": "stdout"
        }
      ]
    },
    {
      "cell_type": "code",
      "metadata": {
        "id": "-edtlEG7qCCr"
      },
      "source": [
        "url = 'http://py4e-data.dr-chuck.net/comments_916871.html'\n",
        "fhand = urllib.request.urlopen(url).read()\n",
        "soup = BeautifulSoup(fhand, 'html.parser')\n",
        "tags = soup('span')"
      ],
      "execution_count": null,
      "outputs": []
    },
    {
      "cell_type": "code",
      "metadata": {
        "id": "KHgiJq5RqJzT"
      },
      "source": [
        "numbers = []\n",
        "for i in tags:\n",
        "  num = int(i.contents[0])\n",
        "  numbers.append(num)"
      ],
      "execution_count": null,
      "outputs": []
    },
    {
      "cell_type": "code",
      "metadata": {
        "colab": {
          "base_uri": "https://localhost:8080/"
        },
        "id": "XwFY223qswZq",
        "outputId": "b9c56af1-a52e-4116-97d3-b3987ca3db58"
      },
      "source": [
        "sum = 0\n",
        "for n in numbers:\n",
        "    sum += n\n",
        "\n",
        "print(sum)"
      ],
      "execution_count": null,
      "outputs": [
        {
          "output_type": "stream",
          "text": [
            "2587\n"
          ],
          "name": "stdout"
        }
      ]
    },
    {
      "cell_type": "code",
      "metadata": {
        "id": "KtDoKJTjtqwi"
      },
      "source": [
        "s = '24. Liaoning: Golden Pebble Beach National Resort, Dalian (辽宁金石滩)'\n",
        "words = s.split()"
      ],
      "execution_count": null,
      "outputs": []
    },
    {
      "cell_type": "code",
      "metadata": {
        "colab": {
          "base_uri": "https://localhost:8080/"
        },
        "id": "eiPnYvqsuH5l",
        "outputId": "2c6f9b06-210d-4f1a-f44d-77de4cd37af4"
      },
      "source": [
        "words"
      ],
      "execution_count": null,
      "outputs": [
        {
          "output_type": "execute_result",
          "data": {
            "text/plain": [
              "['24.',\n",
              " 'Liaoning:',\n",
              " 'Golden',\n",
              " 'Pebble',\n",
              " 'Beach',\n",
              " 'National',\n",
              " 'Resort,',\n",
              " 'Dalian',\n",
              " '(辽宁金石滩)']"
            ]
          },
          "metadata": {
            "tags": []
          },
          "execution_count": 91
        }
      ]
    },
    {
      "cell_type": "code",
      "metadata": {
        "id": "_mOCENhLuLIK"
      },
      "source": [
        "import random\n",
        "random.choice(words)"
      ],
      "execution_count": null,
      "outputs": []
    },
    {
      "cell_type": "markdown",
      "metadata": {
        "id": "pWq9o2sLmGF9"
      },
      "source": [
        "# Chapter 2"
      ]
    },
    {
      "cell_type": "code",
      "metadata": {
        "id": "rnu6Re_-uNFC"
      },
      "source": [
        "url = 'http://www.pythonscraping.com/pages/warandpeace.html'"
      ],
      "execution_count": 2,
      "outputs": []
    },
    {
      "cell_type": "code",
      "metadata": {
        "id": "Wf5wMJFguOfK"
      },
      "source": [
        "info = urllib.request.urlopen(url).read()\n",
        "bs = BeautifulSoup(info, 'html.parser')"
      ],
      "execution_count": 3,
      "outputs": []
    },
    {
      "cell_type": "code",
      "metadata": {
        "colab": {
          "base_uri": "https://localhost:8080/"
        },
        "id": "NPFpyn6xpYiC",
        "outputId": "fb3f311a-d566-430c-e4d4-a5d2a8ffcce8"
      },
      "source": [
        "nameList = bs.find_all(text='the prince')\n",
        "len(nameList)"
      ],
      "execution_count": 4,
      "outputs": [
        {
          "output_type": "execute_result",
          "data": {
            "text/plain": [
              "7"
            ]
          },
          "metadata": {
            "tags": []
          },
          "execution_count": 4
        }
      ]
    },
    {
      "cell_type": "code",
      "metadata": {
        "colab": {
          "base_uri": "https://localhost:8080/"
        },
        "id": "xJNQ321RpdSk",
        "outputId": "7d19abbf-0284-4be7-fc14-ed439c1a1d3e"
      },
      "source": [
        "#nameList = bs.find_all('span', {'class':{'green','red'}}) #finds all the green and red text\n",
        "nameList = bs.find_all('span', {'class':'green'}) #finds all the green text\n",
        "nameList"
      ],
      "execution_count": 34,
      "outputs": [
        {
          "output_type": "execute_result",
          "data": {
            "text/plain": [
              "[<span class=\"green\">Anna\n",
              " Pavlovna Scherer</span>, <span class=\"green\">Empress Marya\n",
              " Fedorovna</span>, <span class=\"green\">Prince Vasili Kuragin</span>, <span class=\"green\">Anna Pavlovna</span>, <span class=\"green\">St. Petersburg</span>, <span class=\"green\">the prince</span>, <span class=\"green\">Anna Pavlovna</span>, <span class=\"green\">Anna Pavlovna</span>, <span class=\"green\">the prince</span>, <span class=\"green\">the prince</span>, <span class=\"green\">the prince</span>, <span class=\"green\">Prince Vasili</span>, <span class=\"green\">Anna Pavlovna</span>, <span class=\"green\">Anna Pavlovna</span>, <span class=\"green\">the prince</span>, <span class=\"green\">Wintzingerode</span>, <span class=\"green\">King of Prussia</span>, <span class=\"green\">le Vicomte de Mortemart</span>, <span class=\"green\">Montmorencys</span>, <span class=\"green\">Rohans</span>, <span class=\"green\">Abbe Morio</span>, <span class=\"green\">the Emperor</span>, <span class=\"green\">the prince</span>, <span class=\"green\">Prince Vasili</span>, <span class=\"green\">Dowager Empress Marya Fedorovna</span>, <span class=\"green\">the baron</span>, <span class=\"green\">Anna Pavlovna</span>, <span class=\"green\">the Empress</span>, <span class=\"green\">the Empress</span>, <span class=\"green\">Anna Pavlovna's</span>, <span class=\"green\">Her Majesty</span>, <span class=\"green\">Baron\n",
              " Funke</span>, <span class=\"green\">The prince</span>, <span class=\"green\">Anna\n",
              " Pavlovna</span>, <span class=\"green\">the Empress</span>, <span class=\"green\">The prince</span>, <span class=\"green\">Anatole</span>, <span class=\"green\">the prince</span>, <span class=\"green\">The prince</span>, <span class=\"green\">Anna\n",
              " Pavlovna</span>, <span class=\"green\">Anna Pavlovna</span>]"
            ]
          },
          "metadata": {
            "tags": []
          },
          "execution_count": 34
        }
      ]
    },
    {
      "cell_type": "code",
      "metadata": {
        "colab": {
          "base_uri": "https://localhost:8080/"
        },
        "id": "Mpexg7TFxqNq",
        "outputId": "7e214a3e-c354-4096-a2dd-9e77f1ca527c"
      },
      "source": [
        "type(nameList)"
      ],
      "execution_count": 32,
      "outputs": [
        {
          "output_type": "execute_result",
          "data": {
            "text/plain": [
              "bs4.element.ResultSet"
            ]
          },
          "metadata": {
            "tags": []
          },
          "execution_count": 32
        }
      ]
    },
    {
      "cell_type": "markdown",
      "metadata": {
        "id": "9t20tp76yk5s"
      },
      "source": [
        "## Navigating Trees"
      ]
    },
    {
      "cell_type": "code",
      "metadata": {
        "id": "xpsA1VN7z0zM"
      },
      "source": [
        "url = 'http://www.pythonscraping.com/pages/page3.html'\n",
        "info = urllib.request.urlopen(url).read()\n",
        "bs = BeautifulSoup(info, 'html.parser')"
      ],
      "execution_count": 32,
      "outputs": []
    },
    {
      "cell_type": "markdown",
      "metadata": {
        "id": "j_Q7zozy4v1Y"
      },
      "source": [
        "Dealing with children and other descendants"
      ]
    },
    {
      "cell_type": "code",
      "metadata": {
        "colab": {
          "base_uri": "https://localhost:8080/"
        },
        "id": "EL_Nlfqep2fP",
        "outputId": "8d15f950-b077-4d92-f606-c450eb7991ab"
      },
      "source": [
        "for i in bs.find('table', {'id':'giftList'}).children:\n",
        "  print(i)"
      ],
      "execution_count": 35,
      "outputs": [
        {
          "output_type": "stream",
          "text": [
            "\n",
            "\n",
            "<tr><th>\n",
            "Item Title\n",
            "</th><th>\n",
            "Description\n",
            "</th><th>\n",
            "Cost\n",
            "</th><th>\n",
            "Image\n",
            "</th></tr>\n",
            "\n",
            "\n",
            "<tr class=\"gift\" id=\"gift1\"><td>\n",
            "Vegetable Basket\n",
            "</td><td>\n",
            "This vegetable basket is the perfect gift for your health conscious (or overweight) friends!\n",
            "<span class=\"excitingNote\">Now with super-colorful bell peppers!</span>\n",
            "</td><td>\n",
            "$15.00\n",
            "</td><td>\n",
            "<img src=\"../img/gifts/img1.jpg\"/>\n",
            "</td></tr>\n",
            "\n",
            "\n",
            "<tr class=\"gift\" id=\"gift2\"><td>\n",
            "Russian Nesting Dolls\n",
            "</td><td>\n",
            "Hand-painted by trained monkeys, these exquisite dolls are priceless! And by \"priceless,\" we mean \"extremely expensive\"! <span class=\"excitingNote\">8 entire dolls per set! Octuple the presents!</span>\n",
            "</td><td>\n",
            "$10,000.52\n",
            "</td><td>\n",
            "<img src=\"../img/gifts/img2.jpg\"/>\n",
            "</td></tr>\n",
            "\n",
            "\n",
            "<tr class=\"gift\" id=\"gift3\"><td>\n",
            "Fish Painting\n",
            "</td><td>\n",
            "If something seems fishy about this painting, it's because it's a fish! <span class=\"excitingNote\">Also hand-painted by trained monkeys!</span>\n",
            "</td><td>\n",
            "$10,005.00\n",
            "</td><td>\n",
            "<img src=\"../img/gifts/img3.jpg\"/>\n",
            "</td></tr>\n",
            "\n",
            "\n",
            "<tr class=\"gift\" id=\"gift4\"><td>\n",
            "Dead Parrot\n",
            "</td><td>\n",
            "This is an ex-parrot! <span class=\"excitingNote\">Or maybe he's only resting?</span>\n",
            "</td><td>\n",
            "$0.50\n",
            "</td><td>\n",
            "<img src=\"../img/gifts/img4.jpg\"/>\n",
            "</td></tr>\n",
            "\n",
            "\n",
            "<tr class=\"gift\" id=\"gift5\"><td>\n",
            "Mystery Box\n",
            "</td><td>\n",
            "If you love suprises, this mystery box is for you! Do not place on light-colored surfaces. May cause oil staining. <span class=\"excitingNote\">Keep your friends guessing!</span>\n",
            "</td><td>\n",
            "$1.50\n",
            "</td><td>\n",
            "<img src=\"../img/gifts/img6.jpg\"/>\n",
            "</td></tr>\n",
            "\n",
            "\n"
          ],
          "name": "stdout"
        }
      ]
    },
    {
      "cell_type": "markdown",
      "metadata": {
        "id": "n5X26Zll4ri7"
      },
      "source": [
        "Deal with silbings"
      ]
    },
    {
      "cell_type": "code",
      "metadata": {
        "colab": {
          "base_uri": "https://localhost:8080/"
        },
        "id": "mxTzdgwWp3EX",
        "outputId": "f60a0bde-10ae-4dcc-e43a-d53a90630d14"
      },
      "source": [
        "for i in bs.find('table', {'id':'giftList'}).tr.next_siblings:\n",
        "  print(i)"
      ],
      "execution_count": 38,
      "outputs": [
        {
          "output_type": "stream",
          "text": [
            "\n",
            "\n",
            "<tr class=\"gift\" id=\"gift1\"><td>\n",
            "Vegetable Basket\n",
            "</td><td>\n",
            "This vegetable basket is the perfect gift for your health conscious (or overweight) friends!\n",
            "<span class=\"excitingNote\">Now with super-colorful bell peppers!</span>\n",
            "</td><td>\n",
            "$15.00\n",
            "</td><td>\n",
            "<img src=\"../img/gifts/img1.jpg\"/>\n",
            "</td></tr>\n",
            "\n",
            "\n",
            "<tr class=\"gift\" id=\"gift2\"><td>\n",
            "Russian Nesting Dolls\n",
            "</td><td>\n",
            "Hand-painted by trained monkeys, these exquisite dolls are priceless! And by \"priceless,\" we mean \"extremely expensive\"! <span class=\"excitingNote\">8 entire dolls per set! Octuple the presents!</span>\n",
            "</td><td>\n",
            "$10,000.52\n",
            "</td><td>\n",
            "<img src=\"../img/gifts/img2.jpg\"/>\n",
            "</td></tr>\n",
            "\n",
            "\n",
            "<tr class=\"gift\" id=\"gift3\"><td>\n",
            "Fish Painting\n",
            "</td><td>\n",
            "If something seems fishy about this painting, it's because it's a fish! <span class=\"excitingNote\">Also hand-painted by trained monkeys!</span>\n",
            "</td><td>\n",
            "$10,005.00\n",
            "</td><td>\n",
            "<img src=\"../img/gifts/img3.jpg\"/>\n",
            "</td></tr>\n",
            "\n",
            "\n",
            "<tr class=\"gift\" id=\"gift4\"><td>\n",
            "Dead Parrot\n",
            "</td><td>\n",
            "This is an ex-parrot! <span class=\"excitingNote\">Or maybe he's only resting?</span>\n",
            "</td><td>\n",
            "$0.50\n",
            "</td><td>\n",
            "<img src=\"../img/gifts/img4.jpg\"/>\n",
            "</td></tr>\n",
            "\n",
            "\n",
            "<tr class=\"gift\" id=\"gift5\"><td>\n",
            "Mystery Box\n",
            "</td><td>\n",
            "If you love suprises, this mystery box is for you! Do not place on light-colored surfaces. May cause oil staining. <span class=\"excitingNote\">Keep your friends guessing!</span>\n",
            "</td><td>\n",
            "$1.50\n",
            "</td><td>\n",
            "<img src=\"../img/gifts/img6.jpg\"/>\n",
            "</td></tr>\n",
            "\n",
            "\n"
          ],
          "name": "stdout"
        }
      ]
    },
    {
      "cell_type": "markdown",
      "metadata": {
        "id": "33UO4Tq15oyu"
      },
      "source": [
        "Dealing with parents"
      ]
    },
    {
      "cell_type": "code",
      "metadata": {
        "colab": {
          "base_uri": "https://localhost:8080/"
        },
        "id": "Frsm9eEQ3uhD",
        "outputId": "e7f82683-93b8-4bc2-dce0-fc21dce76147"
      },
      "source": [
        "print(bs.find('img', {'src':'../img/gifts/img1.jpg'}).parent.previous_sibling.get_text())"
      ],
      "execution_count": 44,
      "outputs": [
        {
          "output_type": "stream",
          "text": [
            "\n",
            "$15.00\n",
            "\n"
          ],
          "name": "stdout"
        }
      ]
    },
    {
      "cell_type": "markdown",
      "metadata": {
        "id": "ENYRfyFL7YAu"
      },
      "source": [
        "# Chapter 3 - Web Crawler"
      ]
    },
    {
      "cell_type": "code",
      "metadata": {
        "id": "uM78pNFg9daj"
      },
      "source": [
        "import re"
      ],
      "execution_count": 16,
      "outputs": []
    },
    {
      "cell_type": "code",
      "metadata": {
        "id": "A0CiGdLB5-Vd"
      },
      "source": [
        "url = 'http://en.wikipedia.org/wiki/Kevin_Bacon'\n",
        "data = urllib.request.urlopen(url).read()\n",
        "fhand = BeautifulSoup(data, 'html.parser')"
      ],
      "execution_count": 17,
      "outputs": []
    },
    {
      "cell_type": "markdown",
      "metadata": {
        "id": "eTVHpROVAdlZ"
      },
      "source": [
        "The below code will output a list of links that we need to go into."
      ]
    },
    {
      "cell_type": "code",
      "metadata": {
        "colab": {
          "base_uri": "https://localhost:8080/"
        },
        "id": "1IiemML-8Zbq",
        "outputId": "60fd32e6-bbdc-4c65-a53b-5650753ec4cf"
      },
      "source": [
        "for link in fhand.find('div', {'id':'bodyContent'}).find_all('a', href=re.compile('^(/wiki/)((?!:).)*$')):\n",
        "  if 'href' in link.attrs:\n",
        "    print(link.attrs['href'])\n"
      ],
      "execution_count": 18,
      "outputs": [
        {
          "output_type": "stream",
          "text": [
            "/wiki/Kevin_Bacon_(disambiguation)\n",
            "/wiki/Philadelphia,_Pennsylvania\n",
            "/wiki/Kyra_Sedgwick\n",
            "/wiki/Sosie_Bacon\n",
            "/wiki/Edmund_Bacon_(architect)\n",
            "/wiki/Michael_Bacon_(musician)\n",
            "/wiki/Holly_Near\n",
            "/wiki/Footloose_(1984_film)\n",
            "/wiki/JFK_(film)\n",
            "/wiki/A_Few_Good_Men\n",
            "/wiki/Apollo_13_(film)\n",
            "/wiki/Mystic_River_(film)\n",
            "/wiki/Balto_(film)\n",
            "/wiki/Sleepers\n",
            "/wiki/The_Woodsman_(2004_film)\n",
            "/wiki/Animal_House\n",
            "/wiki/Diner_(1982_film)\n",
            "/wiki/Tremors_(1990_film)\n",
            "/wiki/Crazy,_Stupid,_Love\n",
            "/wiki/Friday_the_13th_(1980_film)\n",
            "/wiki/Flatliners\n",
            "/wiki/The_River_Wild\n",
            "/wiki/Wild_Things_(film)\n",
            "/wiki/Stir_of_Echoes\n",
            "/wiki/Hollow_Man\n",
            "/wiki/Frost/Nixon_(film)\n",
            "/wiki/Black_Mass_(film)\n",
            "/wiki/Patriots_Day_(film)\n",
            "/wiki/Fox_Broadcasting_Company\n",
            "/wiki/The_Following\n",
            "/wiki/HBO\n",
            "/wiki/Taking_Chance\n",
            "/wiki/Golden_Globe_Award\n",
            "/wiki/Screen_Actors_Guild_Award\n",
            "/wiki/Primetime_Emmy_Award\n",
            "/wiki/I_Love_Dick_(TV_series)\n",
            "/wiki/Golden_Globe_Award_for_Best_Actor_%E2%80%93_Television_Series_Musical_or_Comedy\n",
            "/wiki/The_Guardian\n",
            "/wiki/Academy_Award\n",
            "/wiki/Hollywood_Walk_of_Fame\n",
            "/wiki/Social_networking_service\n",
            "/wiki/Six_Degrees_of_Kevin_Bacon\n",
            "/wiki/SixDegrees.org\n",
            "/wiki/Philadelphia\n",
            "/wiki/Edmund_Bacon_(architect)\n",
            "/wiki/Julia_R._Masterman_High_School\n",
            "/wiki/Pennsylvania_Governor%27s_School_for_the_Arts\n",
            "/wiki/Bucknell_University\n",
            "/wiki/Glory_Van_Scott\n",
            "/wiki/Circle_in_the_Square\n",
            "/wiki/Nancy_Mills\n",
            "/wiki/Cosmopolitan_(magazine)\n",
            "/wiki/Fraternities_and_sororities\n",
            "/wiki/Animal_House\n",
            "/wiki/Search_for_Tomorrow\n",
            "/wiki/Guiding_Light\n",
            "/wiki/Friday_the_13th_(1980_film)\n",
            "/wiki/Phoenix_Theater\n",
            "/wiki/Flux\n",
            "/wiki/Second_Stage_Theatre\n",
            "/wiki/Obie_Award\n",
            "/wiki/Forty_Deuce\n",
            "/wiki/Slab_Boys\n",
            "/wiki/Sean_Penn\n",
            "/wiki/Val_Kilmer\n",
            "/wiki/Barry_Levinson\n",
            "/wiki/Diner_(1982_film)\n",
            "/wiki/Steve_Guttenberg\n",
            "/wiki/Daniel_Stern_(actor)\n",
            "/wiki/Mickey_Rourke\n",
            "/wiki/Tim_Daly\n",
            "/wiki/Ellen_Barkin\n",
            "/wiki/Footloose_(1984_film)\n",
            "/wiki/James_Dean\n",
            "/wiki/Rebel_Without_a_Cause\n",
            "/wiki/Mickey_Rooney\n",
            "/wiki/Judy_Garland\n",
            "/wiki/Typecasting_(acting)\n",
            "/wiki/John_Hughes_(filmmaker)\n",
            "/wiki/She%27s_Having_a_Baby\n",
            "/wiki/The_Big_Picture_(1989_film)\n",
            "/wiki/Tremors_(1990_film)\n",
            "/wiki/Joel_Schumacher\n",
            "/wiki/Flatliners\n",
            "/wiki/Elizabeth_Perkins\n",
            "/wiki/He_Said,_She_Said_(film)\n",
            "/wiki/The_New_York_Times\n",
            "/wiki/Oliver_Stone\n",
            "/wiki/JFK_(film)\n",
            "/wiki/A_Few_Good_Men_(film)\n",
            "/wiki/Michael_Greif\n",
            "/wiki/Golden_Globe_Award\n",
            "/wiki/The_River_Wild\n",
            "/wiki/Meryl_Streep\n",
            "/wiki/Murder_in_the_First_(film)\n",
            "/wiki/Blockbuster_(entertainment)\n",
            "/wiki/Apollo_13_(film)\n",
            "/wiki/Sleepers_(film)\n",
            "/wiki/Picture_Perfect_(1997_film)\n",
            "/wiki/Losing_Chase\n",
            "/wiki/Digging_to_China\n",
            "/wiki/Payola\n",
            "/wiki/Telling_Lies_in_America_(film)\n",
            "/wiki/Wild_Things_(film)\n",
            "/wiki/Stir_of_Echoes\n",
            "/wiki/David_Koepp\n",
            "/wiki/Cannes_Film_Festival\n",
            "/wiki/Paul_Verhoeven\n",
            "/wiki/Hollow_Man\n",
            "/wiki/Colin_Firth\n",
            "/wiki/Rachel_Blanchard\n",
            "/wiki/M%C3%A9nage_%C3%A0_trois\n",
            "/wiki/Where_the_Truth_Lies\n",
            "/wiki/Atom_Egoyan\n",
            "/wiki/MPAA\n",
            "/wiki/MPAA_film_rating_system\n",
            "/wiki/Sean_Penn\n",
            "/wiki/Tim_Robbins\n",
            "/wiki/Clint_Eastwood\n",
            "/wiki/Mystic_River_(film)\n",
            "/wiki/The_Woodsman_(2004_film)\n",
            "/wiki/HBO_Films\n",
            "/wiki/Taking_Chance\n",
            "/wiki/Michael_Strobl\n",
            "/wiki/Desert_Storm\n",
            "/wiki/Screen_Actors_Guild_Award_for_Outstanding_Performance_by_a_Male_Actor_in_a_Miniseries_or_Television_Movie\n",
            "/wiki/Toronto_Film_Festival\n",
            "/wiki/Matthew_Vaughn\n",
            "/wiki/Sebastian_Shaw_(comics)\n",
            "/wiki/Dustin_Lance_Black\n",
            "/wiki/8_(play)\n",
            "/wiki/Perry_v._Brown\n",
            "/wiki/Proposition_8\n",
            "/wiki/Charles_J._Cooper\n",
            "/wiki/Wilshire_Ebell_Theatre\n",
            "/wiki/American_Foundation_for_Equal_Rights\n",
            "/wiki/The_Following\n",
            "/wiki/Saturn_Award_for_Best_Actor_on_Television\n",
            "/wiki/Huffington_Post\n",
            "/wiki/Tremors_(1990_film)\n",
            "/wiki/EE_(telecommunications_company)\n",
            "/wiki/Kyra_Sedgwick\n",
            "/wiki/PBS\n",
            "/wiki/Lanford_Wilson\n",
            "/wiki/Lemon_Sky\n",
            "/wiki/Pyrates\n",
            "/wiki/Murder_in_the_First_(film)\n",
            "/wiki/The_Woodsman_(2004_film)\n",
            "/wiki/Loverboy_(2005_film)\n",
            "/wiki/Sosie_Bacon\n",
            "/wiki/Upper_West_Side\n",
            "/wiki/Manhattan\n",
            "/wiki/Tracy_Pollan\n",
            "/wiki/The_Times\n",
            "/wiki/Will.i.am\n",
            "/wiki/It%27s_a_New_Day_(Will.i.am_song)\n",
            "/wiki/Barack_Obama\n",
            "/wiki/Ponzi_scheme\n",
            "/wiki/Bernie_Madoff\n",
            "/wiki/Finding_Your_Roots\n",
            "/wiki/Henry_Louis_Gates\n",
            "/wiki/Six_Degrees_of_Kevin_Bacon\n",
            "/wiki/Trivia\n",
            "/wiki/Big_screen\n",
            "/wiki/Six_degrees_of_separation\n",
            "/wiki/Internet_meme\n",
            "/wiki/SixDegrees.org\n",
            "/wiki/Social_networking_service\n",
            "/wiki/Six_Degrees_of_Kevin_Bacon\n",
            "/wiki/IMDb\n",
            "/wiki/Paul_Erd%C5%91s\n",
            "/wiki/Erd%C5%91s_number\n",
            "/wiki/Paul_Erd%C5%91s\n",
            "/wiki/Erd%C5%91s_number\n",
            "/wiki/Erd%C5%91s%E2%80%93Bacon_number\n",
            "/wiki/The_Bacon_Brothers\n",
            "/wiki/Michael_Bacon_(musician)\n",
            "/wiki/Hollywood_Walk_of_Fame\n",
            "/wiki/Hollywood_Walk_of_Fame\n",
            "/wiki/Denver_Film_Festival\n",
            "/wiki/Phoenix_Film_Festival\n",
            "/wiki/Santa_Barbara_International_Film_Festival\n",
            "/wiki/Broadcast_Film_Critics_Association\n",
            "/wiki/Seattle_International_Film_Festival\n",
            "/wiki/Apollo_13_(film)\n",
            "/wiki/Mystic_River_(film)\n",
            "/wiki/Blockbuster_Entertainment_Awards\n",
            "/wiki/Blockbuster_Entertainment_Awards\n",
            "/wiki/Hollow_Man\n",
            "/wiki/Boston_Society_of_Film_Critics\n",
            "/wiki/Boston_Society_of_Film_Critics_Award_for_Best_Cast\n",
            "/wiki/Mystic_River_(film)\n",
            "/wiki/Bravo_Otto\n",
            "/wiki/Bravo_Otto\n",
            "/wiki/Footloose_(1984_film)\n",
            "/wiki/CableACE_Award\n",
            "/wiki/CableACE_Award\n",
            "/wiki/Losing_Chase\n",
            "/wiki/Chlotrudis_Awards\n",
            "/wiki/The_Woodsman_(2004_film)\n",
            "/wiki/Critics%27_Choice_Movie_Awards\n",
            "/wiki/Critics%27_Choice_Movie_Award_for_Best_Actor\n",
            "/wiki/Murder_in_the_First_(film)\n",
            "/wiki/Ghent_International_Film_Festival\n",
            "/wiki/Ghent_International_Film_Festival\n",
            "/wiki/The_Woodsman_(2004_film)\n",
            "/wiki/Giffoni_Film_Festival\n",
            "/wiki/Giffoni_Film_Festival\n",
            "/wiki/Digging_to_China\n",
            "/wiki/Mystic_River_(film)\n",
            "/wiki/Golden_Globe_Award\n",
            "/wiki/Golden_Globe_Award_for_Best_Supporting_Actor_%E2%80%93_Motion_Picture\n",
            "/wiki/The_River_Wild\n",
            "/wiki/Golden_Globe_Award_for_Best_Actor_%E2%80%93_Miniseries_or_Television_Film\n",
            "/wiki/Taking_Chance\n",
            "/wiki/Golden_Globe_Award_for_Best_Actor_%E2%80%93_Television_Series_Musical_or_Comedy\n",
            "/wiki/I_Love_Dick_(TV_series)\n",
            "/wiki/Independent_Spirit_Awards\n",
            "/wiki/Independent_Spirit_Award_for_Best_Male_Lead\n",
            "/wiki/The_Woodsman_(2004_film)\n",
            "/wiki/Mystic_River_(film)\n",
            "/wiki/MTV_Movie_%26_TV_Awards\n",
            "/wiki/MTV_Movie_Award_for_Best_Villain\n",
            "/wiki/Hollow_Man\n",
            "/wiki/Taking_Chance\n",
            "/wiki/The_Following\n",
            "/wiki/E!_People%27s_Choice_Awards\n",
            "/wiki/E!_People%27s_Choice_Awards\n",
            "/wiki/The_Following\n",
            "/wiki/E!_People%27s_Choice_Awards\n",
            "/wiki/The_Following\n",
            "/wiki/Primetime_Emmy_Award\n",
            "/wiki/Primetime_Emmy_Award_for_Outstanding_Lead_Actor_in_a_Limited_Series_or_Movie\n",
            "/wiki/Taking_Chance\n",
            "/wiki/Satellite_Awards\n",
            "/wiki/Satellite_Award_for_Best_Actor_%E2%80%93_Motion_Picture\n",
            "/wiki/The_Woodsman_(2004_film)\n",
            "/wiki/Satellite_Award_for_Best_Actor_%E2%80%93_Miniseries_or_Television_Film\n",
            "/wiki/Taking_Chance\n",
            "/wiki/Saturn_Award\n",
            "/wiki/Saturn_Award_for_Best_Actor_on_Television\n",
            "/wiki/The_Following\n",
            "/wiki/Saturn_Award_for_Best_Actor_on_Television\n",
            "/wiki/The_Following\n",
            "/wiki/Scream_Awards\n",
            "/wiki/Scream_Awards\n",
            "/wiki/Screen_Actors_Guild_Award\n",
            "/wiki/Screen_Actors_Guild_Award_for_Outstanding_Performance_by_a_Male_Actor_in_a_Supporting_Role\n",
            "/wiki/Murder_in_the_First_(film)\n",
            "/wiki/Screen_Actors_Guild_Award_for_Outstanding_Performance_by_a_Cast_in_a_Motion_Picture\n",
            "/wiki/Apollo_13_(film)\n",
            "/wiki/Screen_Actors_Guild_Award_for_Outstanding_Performance_by_a_Cast_in_a_Motion_Picture\n",
            "/wiki/Mystic_River_(film)\n",
            "/wiki/Screen_Actors_Guild_Award_for_Outstanding_Performance_by_a_Cast_in_a_Motion_Picture\n",
            "/wiki/Frost/Nixon_(film)\n",
            "/wiki/Screen_Actors_Guild_Award_for_Outstanding_Performance_by_a_Male_Actor_in_a_Miniseries_or_Television_Movie\n",
            "/wiki/Taking_Chance\n",
            "/wiki/Teen_Choice_Awards\n",
            "/wiki/Teen_Choice_Award_for_Choice_Movie_Villain\n",
            "/wiki/Beauty_Shop\n",
            "/wiki/Teen_Choice_Award_for_Choice_Movie_Villain\n",
            "/wiki/TV_Guide_Award\n",
            "/wiki/TV_Guide_Award\n",
            "/wiki/The_Following\n",
            "/wiki/Kevin_Bacon_filmography\n",
            "/wiki/List_of_actors_with_Hollywood_Walk_of_Fame_motion_picture_stars\n",
            "/wiki/The_Austin_Chronicle\n",
            "/wiki/Access_Hollywood\n",
            "/wiki/IMDb\n",
            "/wiki/Internet_Broadway_Database\n",
            "/wiki/Lortel_Archives\n",
            "/wiki/AllMovie\n",
            "/wiki/Kevin_Bacon_filmography\n",
            "/wiki/Losing_Chase\n",
            "/wiki/Loverboy_(2005_film)\n",
            "/wiki/Six_Degrees_of_Kevin_Bacon\n",
            "/wiki/Erd%C5%91s%E2%80%93Bacon_number\n",
            "/wiki/SixDegrees.org\n",
            "/wiki/Critics%27_Choice_Movie_Award_for_Best_Actor\n",
            "/wiki/Geoffrey_Rush\n",
            "/wiki/Jack_Nicholson\n",
            "/wiki/Ian_McKellen\n",
            "/wiki/Russell_Crowe\n",
            "/wiki/Russell_Crowe\n",
            "/wiki/Russell_Crowe\n",
            "/wiki/Daniel_Day-Lewis\n",
            "/wiki/Jack_Nicholson\n",
            "/wiki/Sean_Penn\n",
            "/wiki/Jamie_Foxx\n",
            "/wiki/Philip_Seymour_Hoffman\n",
            "/wiki/Forest_Whitaker\n",
            "/wiki/Daniel_Day-Lewis\n",
            "/wiki/Sean_Penn\n",
            "/wiki/Jeff_Bridges\n",
            "/wiki/Colin_Firth\n",
            "/wiki/George_Clooney\n",
            "/wiki/Daniel_Day-Lewis\n",
            "/wiki/Matthew_McConaughey\n",
            "/wiki/Michael_Keaton\n",
            "/wiki/Leonardo_DiCaprio\n",
            "/wiki/Casey_Affleck\n",
            "/wiki/Gary_Oldman\n",
            "/wiki/Christian_Bale\n",
            "/wiki/Joaquin_Phoenix\n",
            "/wiki/Golden_Globe_Award_for_Best_Actor_%E2%80%93_Miniseries_or_Television_Film\n",
            "/wiki/Mickey_Rooney\n",
            "/wiki/Anthony_Andrews\n",
            "/wiki/Richard_Chamberlain\n",
            "/wiki/Ted_Danson\n",
            "/wiki/Dustin_Hoffman\n",
            "/wiki/James_Woods\n",
            "/wiki/Randy_Quaid\n",
            "/wiki/Michael_Caine\n",
            "/wiki/Stacy_Keach\n",
            "/wiki/Robert_Duvall\n",
            "/wiki/James_Garner\n",
            "/wiki/Beau_Bridges\n",
            "/wiki/Robert_Duvall\n",
            "/wiki/James_Garner\n",
            "/wiki/Raul_Julia\n",
            "/wiki/Gary_Sinise\n",
            "/wiki/Alan_Rickman\n",
            "/wiki/Ving_Rhames\n",
            "/wiki/Stanley_Tucci\n",
            "/wiki/Jack_Lemmon\n",
            "/wiki/Brian_Dennehy\n",
            "/wiki/James_Franco\n",
            "/wiki/Albert_Finney\n",
            "/wiki/Al_Pacino\n",
            "/wiki/Geoffrey_Rush\n",
            "/wiki/Jonathan_Rhys_Meyers\n",
            "/wiki/Bill_Nighy\n",
            "/wiki/Jim_Broadbent\n",
            "/wiki/Paul_Giamatti\n",
            "/wiki/Al_Pacino\n",
            "/wiki/Idris_Elba\n",
            "/wiki/Kevin_Costner\n",
            "/wiki/Michael_Douglas\n",
            "/wiki/Billy_Bob_Thornton\n",
            "/wiki/Oscar_Isaac\n",
            "/wiki/Tom_Hiddleston\n",
            "/wiki/Ewan_McGregor\n",
            "/wiki/Darren_Criss\n",
            "/wiki/Russell_Crowe\n",
            "/wiki/Saturn_Award_for_Best_Actor_on_Television\n",
            "/wiki/Kyle_Chandler\n",
            "/wiki/Steven_Weber_(actor)\n",
            "/wiki/Richard_Dean_Anderson\n",
            "/wiki/David_Boreanaz\n",
            "/wiki/Robert_Patrick\n",
            "/wiki/Ben_Browder\n",
            "/wiki/David_Boreanaz\n",
            "/wiki/David_Boreanaz\n",
            "/wiki/Ben_Browder\n",
            "/wiki/Matthew_Fox\n",
            "/wiki/Michael_C._Hall\n",
            "/wiki/Matthew_Fox\n",
            "/wiki/Edward_James_Olmos\n",
            "/wiki/Josh_Holloway\n",
            "/wiki/Stephen_Moyer\n",
            "/wiki/Bryan_Cranston\n",
            "/wiki/Bryan_Cranston\n",
            "/wiki/Mads_Mikkelsen\n",
            "/wiki/Hugh_Dancy\n",
            "/wiki/Andrew_Lincoln\n",
            "/wiki/Bruce_Campbell\n",
            "/wiki/Andrew_Lincoln\n",
            "/wiki/Kyle_MacLachlan\n",
            "/wiki/Sam_Heughan\n",
            "/wiki/Screen_Actors_Guild_Award_for_Outstanding_Performance_by_a_Male_Actor_in_a_Miniseries_or_Television_Movie\n",
            "/wiki/Raul_Julia\n",
            "/wiki/Gary_Sinise\n",
            "/wiki/Alan_Rickman\n",
            "/wiki/Gary_Sinise\n",
            "/wiki/Christopher_Reeve\n",
            "/wiki/Jack_Lemmon\n",
            "/wiki/Brian_Dennehy\n",
            "/wiki/Ben_Kingsley\n",
            "/wiki/William_H._Macy\n",
            "/wiki/Al_Pacino\n",
            "/wiki/Geoffrey_Rush\n",
            "/wiki/Paul_Newman\n",
            "/wiki/Jeremy_Irons\n",
            "/wiki/Kevin_Kline\n",
            "/wiki/Paul_Giamatti\n",
            "/wiki/Al_Pacino\n",
            "/wiki/Paul_Giamatti\n",
            "/wiki/Kevin_Costner\n",
            "/wiki/Michael_Douglas\n",
            "/wiki/Mark_Ruffalo\n",
            "/wiki/Idris_Elba\n",
            "/wiki/Bryan_Cranston\n",
            "/wiki/Alexander_Skarsg%C3%A5rd\n",
            "/wiki/Darren_Criss\n",
            "/wiki/Sam_Rockwell\n",
            "/wiki/BIBSYS_(identifier)\n",
            "/wiki/BNE_(identifier)\n",
            "/wiki/BNF_(identifier)\n",
            "/wiki/GND_(identifier)\n",
            "/wiki/ISNI_(identifier)\n",
            "/wiki/LCCN_(identifier)\n",
            "/wiki/LNB_(identifier)\n",
            "/wiki/MBA_(identifier)\n",
            "/wiki/NKC_(identifier)\n",
            "/wiki/NLA_(identifier)\n",
            "/wiki/NLI_(identifier)\n",
            "/wiki/NLP_(identifier)\n",
            "/wiki/NTA_(identifier)\n",
            "/wiki/PLWABN_(identifier)\n",
            "/wiki/RERO_(identifier)\n",
            "/wiki/SNAC-ID_(identifier)\n",
            "/wiki/SUDOC_(identifier)\n",
            "/wiki/Trove_(identifier)\n",
            "/wiki/VIAF_(identifier)\n",
            "/wiki/WorldCat_Identities_(identifier)\n"
          ],
          "name": "stdout"
        }
      ]
    },
    {
      "cell_type": "markdown",
      "metadata": {
        "id": "NhfPRUSxAkha"
      },
      "source": [
        "We are going to write a function called getLinks using the codes above.\n",
        "- The function will take each of the URL above in the form /wiki/... and returns a list of URL in the same form.\n",
        "- Then a random article link will be chosen from the returned list. It will stop once you stop the program or no new links are found on the page."
      ]
    },
    {
      "cell_type": "code",
      "metadata": {
        "id": "FH6UGh186bnJ"
      },
      "source": [
        "from urllib.request import urlopen\n",
        "import random\n",
        "import re\n",
        "import datetime"
      ],
      "execution_count": 24,
      "outputs": []
    },
    {
      "cell_type": "code",
      "metadata": {
        "id": "3kesE58F7ph7"
      },
      "source": [
        "random.seed(datetime.datetime.now())\n",
        "def getLinks(articleUrl):\n",
        "  html = urlopen('http://en.wikipedia.org{}'.format(articleUrl))\n",
        "  bs = BeautifulSoup(html, 'html.parser')\n",
        "  return bs.find('div', {'id':'bodyContent'}).find_all('a', href=re.compile('^(/wiki/)((?!:).)*$'))"
      ],
      "execution_count": 25,
      "outputs": []
    },
    {
      "cell_type": "code",
      "metadata": {
        "id": "cf7V4-oXNFyr"
      },
      "source": [
        "#\n",
        "links = getLinks('/wiki/Kevin_Bacon')\n",
        "while len(links) in range(0,10):\n",
        "  newArticle = links[random.randint(0, len(links)-1)].attrs['href']\n",
        "  print(newArticle)"
      ],
      "execution_count": 27,
      "outputs": []
    },
    {
      "cell_type": "markdown",
      "metadata": {
        "id": "Qa3pLHy468rx"
      },
      "source": [
        "Crawling entire site"
      ]
    },
    {
      "cell_type": "code",
      "metadata": {
        "colab": {
          "base_uri": "https://localhost:8080/",
          "height": 769
        },
        "id": "7TsAERfPUn4M",
        "outputId": "af9f9a69-0c2b-44d4-ecec-bc8f37295ea6"
      },
      "source": [
        "from urllib.request import urlopen\n",
        "from bs4 import BeautifulSoup\n",
        "import re\n",
        "pages = set()\n",
        "def getLinks(pageUrl):\n",
        "  global pages\n",
        "  html = urlopen('http://en.wikipedia.org{}'.format(pageUrl))\n",
        "  bs = BeautifulSoup(html, 'html.parser')\n",
        "  try:\n",
        "    print(bs.h1.get_text())\n",
        "    print(bs.find(id ='mw-content-text').find_all('p')[0])\n",
        "    print(bs.find(id='ca-edit').find('span').find('a').attrs['href'])\n",
        "  except AttributeError:\n",
        "    print('This page is missing something! Continuing.')\n",
        "  \n",
        "  for link in bs.find_all('a', href=re.compile('^(/wiki/)')):\n",
        "    if 'href' in link.attrs:\n",
        "      if link.attrs['href'] not in pages:\n",
        "        #We have encountered a new page\n",
        "        newPage = link.attrs['href']\n",
        "        print('-'*20)\n",
        "        print(newPage)\n",
        "        pages.add(newPage)\n",
        "        getLinks(newPage)\n",
        "getLinks('')"
      ],
      "execution_count": 6,
      "outputs": [
        {
          "output_type": "stream",
          "text": [
            "Main Page\n",
            "<p><b><a href=\"/wiki/James_P._Hagerstrom\" title=\"James P. Hagerstrom\">James Hagerstrom</a></b> (January 14, 1921 – June 25, 1994) was a <a href=\"/wiki/Flying_ace\" title=\"Flying ace\">fighter ace</a> of the <a href=\"/wiki/United_States_Army_Air_Forces\" title=\"United States Army Air Forces\">U.S. Army Air Forces</a> (USAAF) in <a href=\"/wiki/World_War_II\" title=\"World War II\">World War II</a> and the <a href=\"/wiki/United_States_Air_Force\" title=\"United States Air Force\">U.S. Air Force</a> (USAF) in the <a href=\"/wiki/Korean_War\" title=\"Korean War\">Korean War</a>. He is one of seven American pilots to have achieved ace status in two different wars. Hagerstrom joined the USAAF in 1941, and fought in the <a href=\"/wiki/New_Guinea_campaign\" title=\"New Guinea campaign\">New Guinea campaign</a> of World War II. There he shot down six Japanese aircraft, including four in one morning. After the war, he joined the <a href=\"/wiki/Texas_Air_National_Guard\" title=\"Texas Air National Guard\">Texas Air National Guard</a> and participated in several <a href=\"/wiki/Air_racing\" title=\"Air racing\">air races</a>. By 1950 he was in command of the <a href=\"/wiki/111th_Reconnaissance_Squadron\" title=\"111th Reconnaissance Squadron\">111th Fighter-Bomber Squadron</a>, which was deployed to Korea during the Korean War. He transferred to the USAF and flew an <a href=\"/wiki/North_American_F-86_Sabre\" title=\"North American F-86 Sabre\"><span class=\"nowrap\">F-86</span> Sabre</a> jet in \"<a href=\"/wiki/MiG_Alley\" title=\"MiG Alley\">MiG Alley</a>\", the area around the northern border of North Korea with China, destroying 8.5 Chinese, Soviet, and North Korean <a href=\"/wiki/Mikoyan-Gurevich_MiG-15\" title=\"Mikoyan-Gurevich MiG-15\"><span class=\"nowrap\">MiG-15s</span></a>. In 1965, he served in several command roles during the <a href=\"/wiki/Vietnam_War\" title=\"Vietnam War\">Vietnam War</a> while flying 30 combat missions. Hagerstrom died in <a href=\"/wiki/Shreveport,_Louisiana\" title=\"Shreveport, Louisiana\">Shreveport</a> of <a href=\"/wiki/Stomach_cancer\" title=\"Stomach cancer\">stomach cancer</a> in 1994. (<b><a href=\"/wiki/James_P._Hagerstrom\" title=\"James P. Hagerstrom\">Full article...</a></b>)\n",
            "</p>\n",
            "This page is missing something! Continuing.\n",
            "--------------------\n",
            "/wiki/Wikipedia\n",
            "Wikipedia\n",
            "<p class=\"mw-empty-elt\">\n",
            "</p>\n",
            "This page is missing something! Continuing.\n",
            "--------------------\n",
            "/wiki/Wikipedia:Protection_policy#semi\n",
            "Wikipedia:Protection policy\n",
            "<p class=\"mw-empty-elt\">\n",
            "</p>\n",
            "This page is missing something! Continuing.\n",
            "--------------------\n",
            "/wiki/Wikipedia:Requests_for_page_protection\n",
            "Wikipedia:Requests for page protection\n",
            "<p class=\"mw-empty-elt\">\n",
            "</p>\n",
            "This page is missing something! Continuing.\n",
            "--------------------\n",
            "/wiki/Wikipedia:Protection_policy#move\n"
          ],
          "name": "stdout"
        },
        {
          "output_type": "error",
          "ename": "KeyboardInterrupt",
          "evalue": "ignored",
          "traceback": [
            "\u001b[0;31m---------------------------------------------------------------------------\u001b[0m",
            "\u001b[0;31mKeyboardInterrupt\u001b[0m                         Traceback (most recent call last)",
            "\u001b[0;32m<ipython-input-6-345424283a7f>\u001b[0m in \u001b[0;36m<module>\u001b[0;34m()\u001b[0m\n\u001b[1;32m     23\u001b[0m         \u001b[0mpages\u001b[0m\u001b[0;34m.\u001b[0m\u001b[0madd\u001b[0m\u001b[0;34m(\u001b[0m\u001b[0mnewPage\u001b[0m\u001b[0;34m)\u001b[0m\u001b[0;34m\u001b[0m\u001b[0;34m\u001b[0m\u001b[0m\n\u001b[1;32m     24\u001b[0m         \u001b[0mgetLinks\u001b[0m\u001b[0;34m(\u001b[0m\u001b[0mnewPage\u001b[0m\u001b[0;34m)\u001b[0m\u001b[0;34m\u001b[0m\u001b[0;34m\u001b[0m\u001b[0m\n\u001b[0;32m---> 25\u001b[0;31m \u001b[0mgetLinks\u001b[0m\u001b[0;34m(\u001b[0m\u001b[0;34m''\u001b[0m\u001b[0;34m)\u001b[0m\u001b[0;34m\u001b[0m\u001b[0;34m\u001b[0m\u001b[0m\n\u001b[0m",
            "\u001b[0;32m<ipython-input-6-345424283a7f>\u001b[0m in \u001b[0;36mgetLinks\u001b[0;34m(pageUrl)\u001b[0m\n\u001b[1;32m     22\u001b[0m         \u001b[0mprint\u001b[0m\u001b[0;34m(\u001b[0m\u001b[0mnewPage\u001b[0m\u001b[0;34m)\u001b[0m\u001b[0;34m\u001b[0m\u001b[0;34m\u001b[0m\u001b[0m\n\u001b[1;32m     23\u001b[0m         \u001b[0mpages\u001b[0m\u001b[0;34m.\u001b[0m\u001b[0madd\u001b[0m\u001b[0;34m(\u001b[0m\u001b[0mnewPage\u001b[0m\u001b[0;34m)\u001b[0m\u001b[0;34m\u001b[0m\u001b[0;34m\u001b[0m\u001b[0m\n\u001b[0;32m---> 24\u001b[0;31m         \u001b[0mgetLinks\u001b[0m\u001b[0;34m(\u001b[0m\u001b[0mnewPage\u001b[0m\u001b[0;34m)\u001b[0m\u001b[0;34m\u001b[0m\u001b[0;34m\u001b[0m\u001b[0m\n\u001b[0m\u001b[1;32m     25\u001b[0m \u001b[0mgetLinks\u001b[0m\u001b[0;34m(\u001b[0m\u001b[0;34m''\u001b[0m\u001b[0;34m)\u001b[0m\u001b[0;34m\u001b[0m\u001b[0;34m\u001b[0m\u001b[0m\n",
            "\u001b[0;32m<ipython-input-6-345424283a7f>\u001b[0m in \u001b[0;36mgetLinks\u001b[0;34m(pageUrl)\u001b[0m\n\u001b[1;32m     22\u001b[0m         \u001b[0mprint\u001b[0m\u001b[0;34m(\u001b[0m\u001b[0mnewPage\u001b[0m\u001b[0;34m)\u001b[0m\u001b[0;34m\u001b[0m\u001b[0;34m\u001b[0m\u001b[0m\n\u001b[1;32m     23\u001b[0m         \u001b[0mpages\u001b[0m\u001b[0;34m.\u001b[0m\u001b[0madd\u001b[0m\u001b[0;34m(\u001b[0m\u001b[0mnewPage\u001b[0m\u001b[0;34m)\u001b[0m\u001b[0;34m\u001b[0m\u001b[0;34m\u001b[0m\u001b[0m\n\u001b[0;32m---> 24\u001b[0;31m         \u001b[0mgetLinks\u001b[0m\u001b[0;34m(\u001b[0m\u001b[0mnewPage\u001b[0m\u001b[0;34m)\u001b[0m\u001b[0;34m\u001b[0m\u001b[0;34m\u001b[0m\u001b[0m\n\u001b[0m\u001b[1;32m     25\u001b[0m \u001b[0mgetLinks\u001b[0m\u001b[0;34m(\u001b[0m\u001b[0;34m''\u001b[0m\u001b[0;34m)\u001b[0m\u001b[0;34m\u001b[0m\u001b[0;34m\u001b[0m\u001b[0m\n",
            "\u001b[0;32m<ipython-input-6-345424283a7f>\u001b[0m in \u001b[0;36mgetLinks\u001b[0;34m(pageUrl)\u001b[0m\n\u001b[1;32m     22\u001b[0m         \u001b[0mprint\u001b[0m\u001b[0;34m(\u001b[0m\u001b[0mnewPage\u001b[0m\u001b[0;34m)\u001b[0m\u001b[0;34m\u001b[0m\u001b[0;34m\u001b[0m\u001b[0m\n\u001b[1;32m     23\u001b[0m         \u001b[0mpages\u001b[0m\u001b[0;34m.\u001b[0m\u001b[0madd\u001b[0m\u001b[0;34m(\u001b[0m\u001b[0mnewPage\u001b[0m\u001b[0;34m)\u001b[0m\u001b[0;34m\u001b[0m\u001b[0;34m\u001b[0m\u001b[0m\n\u001b[0;32m---> 24\u001b[0;31m         \u001b[0mgetLinks\u001b[0m\u001b[0;34m(\u001b[0m\u001b[0mnewPage\u001b[0m\u001b[0;34m)\u001b[0m\u001b[0;34m\u001b[0m\u001b[0;34m\u001b[0m\u001b[0m\n\u001b[0m\u001b[1;32m     25\u001b[0m \u001b[0mgetLinks\u001b[0m\u001b[0;34m(\u001b[0m\u001b[0;34m''\u001b[0m\u001b[0;34m)\u001b[0m\u001b[0;34m\u001b[0m\u001b[0;34m\u001b[0m\u001b[0m\n",
            "\u001b[0;32m<ipython-input-6-345424283a7f>\u001b[0m in \u001b[0;36mgetLinks\u001b[0;34m(pageUrl)\u001b[0m\n\u001b[1;32m     22\u001b[0m         \u001b[0mprint\u001b[0m\u001b[0;34m(\u001b[0m\u001b[0mnewPage\u001b[0m\u001b[0;34m)\u001b[0m\u001b[0;34m\u001b[0m\u001b[0;34m\u001b[0m\u001b[0m\n\u001b[1;32m     23\u001b[0m         \u001b[0mpages\u001b[0m\u001b[0;34m.\u001b[0m\u001b[0madd\u001b[0m\u001b[0;34m(\u001b[0m\u001b[0mnewPage\u001b[0m\u001b[0;34m)\u001b[0m\u001b[0;34m\u001b[0m\u001b[0;34m\u001b[0m\u001b[0m\n\u001b[0;32m---> 24\u001b[0;31m         \u001b[0mgetLinks\u001b[0m\u001b[0;34m(\u001b[0m\u001b[0mnewPage\u001b[0m\u001b[0;34m)\u001b[0m\u001b[0;34m\u001b[0m\u001b[0;34m\u001b[0m\u001b[0m\n\u001b[0m\u001b[1;32m     25\u001b[0m \u001b[0mgetLinks\u001b[0m\u001b[0;34m(\u001b[0m\u001b[0;34m''\u001b[0m\u001b[0;34m)\u001b[0m\u001b[0;34m\u001b[0m\u001b[0;34m\u001b[0m\u001b[0m\n",
            "\u001b[0;32m<ipython-input-6-345424283a7f>\u001b[0m in \u001b[0;36mgetLinks\u001b[0;34m(pageUrl)\u001b[0m\n\u001b[1;32m      6\u001b[0m   \u001b[0;32mglobal\u001b[0m \u001b[0mpages\u001b[0m\u001b[0;34m\u001b[0m\u001b[0;34m\u001b[0m\u001b[0m\n\u001b[1;32m      7\u001b[0m   \u001b[0mhtml\u001b[0m \u001b[0;34m=\u001b[0m \u001b[0murlopen\u001b[0m\u001b[0;34m(\u001b[0m\u001b[0;34m'http://en.wikipedia.org{}'\u001b[0m\u001b[0;34m.\u001b[0m\u001b[0mformat\u001b[0m\u001b[0;34m(\u001b[0m\u001b[0mpageUrl\u001b[0m\u001b[0;34m)\u001b[0m\u001b[0;34m)\u001b[0m\u001b[0;34m\u001b[0m\u001b[0;34m\u001b[0m\u001b[0m\n\u001b[0;32m----> 8\u001b[0;31m   \u001b[0mbs\u001b[0m \u001b[0;34m=\u001b[0m \u001b[0mBeautifulSoup\u001b[0m\u001b[0;34m(\u001b[0m\u001b[0mhtml\u001b[0m\u001b[0;34m,\u001b[0m \u001b[0;34m'html.parser'\u001b[0m\u001b[0;34m)\u001b[0m\u001b[0;34m\u001b[0m\u001b[0;34m\u001b[0m\u001b[0m\n\u001b[0m\u001b[1;32m      9\u001b[0m   \u001b[0;32mtry\u001b[0m\u001b[0;34m:\u001b[0m\u001b[0;34m\u001b[0m\u001b[0;34m\u001b[0m\u001b[0m\n\u001b[1;32m     10\u001b[0m     \u001b[0mprint\u001b[0m\u001b[0;34m(\u001b[0m\u001b[0mbs\u001b[0m\u001b[0;34m.\u001b[0m\u001b[0mh1\u001b[0m\u001b[0;34m.\u001b[0m\u001b[0mget_text\u001b[0m\u001b[0;34m(\u001b[0m\u001b[0;34m)\u001b[0m\u001b[0;34m)\u001b[0m\u001b[0;34m\u001b[0m\u001b[0;34m\u001b[0m\u001b[0m\n",
            "\u001b[0;32m/usr/local/lib/python3.6/dist-packages/bs4/__init__.py\u001b[0m in \u001b[0;36m__init__\u001b[0;34m(self, markup, features, builder, parse_only, from_encoding, exclude_encodings, **kwargs)\u001b[0m\n\u001b[1;32m    243\u001b[0m \u001b[0;34m\u001b[0m\u001b[0m\n\u001b[1;32m    244\u001b[0m         \u001b[0;32mif\u001b[0m \u001b[0mhasattr\u001b[0m\u001b[0;34m(\u001b[0m\u001b[0mmarkup\u001b[0m\u001b[0;34m,\u001b[0m \u001b[0;34m'read'\u001b[0m\u001b[0;34m)\u001b[0m\u001b[0;34m:\u001b[0m        \u001b[0;31m# It's a file-type object.\u001b[0m\u001b[0;34m\u001b[0m\u001b[0;34m\u001b[0m\u001b[0m\n\u001b[0;32m--> 245\u001b[0;31m             \u001b[0mmarkup\u001b[0m \u001b[0;34m=\u001b[0m \u001b[0mmarkup\u001b[0m\u001b[0;34m.\u001b[0m\u001b[0mread\u001b[0m\u001b[0;34m(\u001b[0m\u001b[0;34m)\u001b[0m\u001b[0;34m\u001b[0m\u001b[0;34m\u001b[0m\u001b[0m\n\u001b[0m\u001b[1;32m    246\u001b[0m         elif len(markup) <= 256 and (\n\u001b[1;32m    247\u001b[0m                 \u001b[0;34m(\u001b[0m\u001b[0misinstance\u001b[0m\u001b[0;34m(\u001b[0m\u001b[0mmarkup\u001b[0m\u001b[0;34m,\u001b[0m \u001b[0mbytes\u001b[0m\u001b[0;34m)\u001b[0m \u001b[0;32mand\u001b[0m \u001b[0;32mnot\u001b[0m \u001b[0;34mb'<'\u001b[0m \u001b[0;32min\u001b[0m \u001b[0mmarkup\u001b[0m\u001b[0;34m)\u001b[0m\u001b[0;34m\u001b[0m\u001b[0;34m\u001b[0m\u001b[0m\n",
            "\u001b[0;32m/usr/lib/python3.6/http/client.py\u001b[0m in \u001b[0;36mread\u001b[0;34m(self, amt)\u001b[0m\n\u001b[1;32m    474\u001b[0m             \u001b[0;32melse\u001b[0m\u001b[0;34m:\u001b[0m\u001b[0;34m\u001b[0m\u001b[0;34m\u001b[0m\u001b[0m\n\u001b[1;32m    475\u001b[0m                 \u001b[0;32mtry\u001b[0m\u001b[0;34m:\u001b[0m\u001b[0;34m\u001b[0m\u001b[0;34m\u001b[0m\u001b[0m\n\u001b[0;32m--> 476\u001b[0;31m                     \u001b[0ms\u001b[0m \u001b[0;34m=\u001b[0m \u001b[0mself\u001b[0m\u001b[0;34m.\u001b[0m\u001b[0m_safe_read\u001b[0m\u001b[0;34m(\u001b[0m\u001b[0mself\u001b[0m\u001b[0;34m.\u001b[0m\u001b[0mlength\u001b[0m\u001b[0;34m)\u001b[0m\u001b[0;34m\u001b[0m\u001b[0;34m\u001b[0m\u001b[0m\n\u001b[0m\u001b[1;32m    477\u001b[0m                 \u001b[0;32mexcept\u001b[0m \u001b[0mIncompleteRead\u001b[0m\u001b[0;34m:\u001b[0m\u001b[0;34m\u001b[0m\u001b[0;34m\u001b[0m\u001b[0m\n\u001b[1;32m    478\u001b[0m                     \u001b[0mself\u001b[0m\u001b[0;34m.\u001b[0m\u001b[0m_close_conn\u001b[0m\u001b[0;34m(\u001b[0m\u001b[0;34m)\u001b[0m\u001b[0;34m\u001b[0m\u001b[0;34m\u001b[0m\u001b[0m\n",
            "\u001b[0;32m/usr/lib/python3.6/http/client.py\u001b[0m in \u001b[0;36m_safe_read\u001b[0;34m(self, amt)\u001b[0m\n\u001b[1;32m    624\u001b[0m         \u001b[0ms\u001b[0m \u001b[0;34m=\u001b[0m \u001b[0;34m[\u001b[0m\u001b[0;34m]\u001b[0m\u001b[0;34m\u001b[0m\u001b[0;34m\u001b[0m\u001b[0m\n\u001b[1;32m    625\u001b[0m         \u001b[0;32mwhile\u001b[0m \u001b[0mamt\u001b[0m \u001b[0;34m>\u001b[0m \u001b[0;36m0\u001b[0m\u001b[0;34m:\u001b[0m\u001b[0;34m\u001b[0m\u001b[0;34m\u001b[0m\u001b[0m\n\u001b[0;32m--> 626\u001b[0;31m             \u001b[0mchunk\u001b[0m \u001b[0;34m=\u001b[0m \u001b[0mself\u001b[0m\u001b[0;34m.\u001b[0m\u001b[0mfp\u001b[0m\u001b[0;34m.\u001b[0m\u001b[0mread\u001b[0m\u001b[0;34m(\u001b[0m\u001b[0mmin\u001b[0m\u001b[0;34m(\u001b[0m\u001b[0mamt\u001b[0m\u001b[0;34m,\u001b[0m \u001b[0mMAXAMOUNT\u001b[0m\u001b[0;34m)\u001b[0m\u001b[0;34m)\u001b[0m\u001b[0;34m\u001b[0m\u001b[0;34m\u001b[0m\u001b[0m\n\u001b[0m\u001b[1;32m    627\u001b[0m             \u001b[0;32mif\u001b[0m \u001b[0;32mnot\u001b[0m \u001b[0mchunk\u001b[0m\u001b[0;34m:\u001b[0m\u001b[0;34m\u001b[0m\u001b[0;34m\u001b[0m\u001b[0m\n\u001b[1;32m    628\u001b[0m                 \u001b[0;32mraise\u001b[0m \u001b[0mIncompleteRead\u001b[0m\u001b[0;34m(\u001b[0m\u001b[0;34mb''\u001b[0m\u001b[0;34m.\u001b[0m\u001b[0mjoin\u001b[0m\u001b[0;34m(\u001b[0m\u001b[0ms\u001b[0m\u001b[0;34m)\u001b[0m\u001b[0;34m,\u001b[0m \u001b[0mamt\u001b[0m\u001b[0;34m)\u001b[0m\u001b[0;34m\u001b[0m\u001b[0;34m\u001b[0m\u001b[0m\n",
            "\u001b[0;32m/usr/lib/python3.6/socket.py\u001b[0m in \u001b[0;36mreadinto\u001b[0;34m(self, b)\u001b[0m\n\u001b[1;32m    584\u001b[0m         \u001b[0;32mwhile\u001b[0m \u001b[0;32mTrue\u001b[0m\u001b[0;34m:\u001b[0m\u001b[0;34m\u001b[0m\u001b[0;34m\u001b[0m\u001b[0m\n\u001b[1;32m    585\u001b[0m             \u001b[0;32mtry\u001b[0m\u001b[0;34m:\u001b[0m\u001b[0;34m\u001b[0m\u001b[0;34m\u001b[0m\u001b[0m\n\u001b[0;32m--> 586\u001b[0;31m                 \u001b[0;32mreturn\u001b[0m \u001b[0mself\u001b[0m\u001b[0;34m.\u001b[0m\u001b[0m_sock\u001b[0m\u001b[0;34m.\u001b[0m\u001b[0mrecv_into\u001b[0m\u001b[0;34m(\u001b[0m\u001b[0mb\u001b[0m\u001b[0;34m)\u001b[0m\u001b[0;34m\u001b[0m\u001b[0;34m\u001b[0m\u001b[0m\n\u001b[0m\u001b[1;32m    587\u001b[0m             \u001b[0;32mexcept\u001b[0m \u001b[0mtimeout\u001b[0m\u001b[0;34m:\u001b[0m\u001b[0;34m\u001b[0m\u001b[0;34m\u001b[0m\u001b[0m\n\u001b[1;32m    588\u001b[0m                 \u001b[0mself\u001b[0m\u001b[0;34m.\u001b[0m\u001b[0m_timeout_occurred\u001b[0m \u001b[0;34m=\u001b[0m \u001b[0;32mTrue\u001b[0m\u001b[0;34m\u001b[0m\u001b[0;34m\u001b[0m\u001b[0m\n",
            "\u001b[0;32m/usr/lib/python3.6/ssl.py\u001b[0m in \u001b[0;36mrecv_into\u001b[0;34m(self, buffer, nbytes, flags)\u001b[0m\n\u001b[1;32m   1010\u001b[0m                   \u001b[0;34m\"non-zero flags not allowed in calls to recv_into() on %s\"\u001b[0m \u001b[0;34m%\u001b[0m\u001b[0;34m\u001b[0m\u001b[0;34m\u001b[0m\u001b[0m\n\u001b[1;32m   1011\u001b[0m                   self.__class__)\n\u001b[0;32m-> 1012\u001b[0;31m             \u001b[0;32mreturn\u001b[0m \u001b[0mself\u001b[0m\u001b[0;34m.\u001b[0m\u001b[0mread\u001b[0m\u001b[0;34m(\u001b[0m\u001b[0mnbytes\u001b[0m\u001b[0;34m,\u001b[0m \u001b[0mbuffer\u001b[0m\u001b[0;34m)\u001b[0m\u001b[0;34m\u001b[0m\u001b[0;34m\u001b[0m\u001b[0m\n\u001b[0m\u001b[1;32m   1013\u001b[0m         \u001b[0;32melse\u001b[0m\u001b[0;34m:\u001b[0m\u001b[0;34m\u001b[0m\u001b[0;34m\u001b[0m\u001b[0m\n\u001b[1;32m   1014\u001b[0m             \u001b[0;32mreturn\u001b[0m \u001b[0msocket\u001b[0m\u001b[0;34m.\u001b[0m\u001b[0mrecv_into\u001b[0m\u001b[0;34m(\u001b[0m\u001b[0mself\u001b[0m\u001b[0;34m,\u001b[0m \u001b[0mbuffer\u001b[0m\u001b[0;34m,\u001b[0m \u001b[0mnbytes\u001b[0m\u001b[0;34m,\u001b[0m \u001b[0mflags\u001b[0m\u001b[0;34m)\u001b[0m\u001b[0;34m\u001b[0m\u001b[0;34m\u001b[0m\u001b[0m\n",
            "\u001b[0;32m/usr/lib/python3.6/ssl.py\u001b[0m in \u001b[0;36mread\u001b[0;34m(self, len, buffer)\u001b[0m\n\u001b[1;32m    872\u001b[0m             \u001b[0;32mraise\u001b[0m \u001b[0mValueError\u001b[0m\u001b[0;34m(\u001b[0m\u001b[0;34m\"Read on closed or unwrapped SSL socket.\"\u001b[0m\u001b[0;34m)\u001b[0m\u001b[0;34m\u001b[0m\u001b[0;34m\u001b[0m\u001b[0m\n\u001b[1;32m    873\u001b[0m         \u001b[0;32mtry\u001b[0m\u001b[0;34m:\u001b[0m\u001b[0;34m\u001b[0m\u001b[0;34m\u001b[0m\u001b[0m\n\u001b[0;32m--> 874\u001b[0;31m             \u001b[0;32mreturn\u001b[0m \u001b[0mself\u001b[0m\u001b[0;34m.\u001b[0m\u001b[0m_sslobj\u001b[0m\u001b[0;34m.\u001b[0m\u001b[0mread\u001b[0m\u001b[0;34m(\u001b[0m\u001b[0mlen\u001b[0m\u001b[0;34m,\u001b[0m \u001b[0mbuffer\u001b[0m\u001b[0;34m)\u001b[0m\u001b[0;34m\u001b[0m\u001b[0;34m\u001b[0m\u001b[0m\n\u001b[0m\u001b[1;32m    875\u001b[0m         \u001b[0;32mexcept\u001b[0m \u001b[0mSSLError\u001b[0m \u001b[0;32mas\u001b[0m \u001b[0mx\u001b[0m\u001b[0;34m:\u001b[0m\u001b[0;34m\u001b[0m\u001b[0;34m\u001b[0m\u001b[0m\n\u001b[1;32m    876\u001b[0m             \u001b[0;32mif\u001b[0m \u001b[0mx\u001b[0m\u001b[0;34m.\u001b[0m\u001b[0margs\u001b[0m\u001b[0;34m[\u001b[0m\u001b[0;36m0\u001b[0m\u001b[0;34m]\u001b[0m \u001b[0;34m==\u001b[0m \u001b[0mSSL_ERROR_EOF\u001b[0m \u001b[0;32mand\u001b[0m \u001b[0mself\u001b[0m\u001b[0;34m.\u001b[0m\u001b[0msuppress_ragged_eofs\u001b[0m\u001b[0;34m:\u001b[0m\u001b[0;34m\u001b[0m\u001b[0;34m\u001b[0m\u001b[0m\n",
            "\u001b[0;32m/usr/lib/python3.6/ssl.py\u001b[0m in \u001b[0;36mread\u001b[0;34m(self, len, buffer)\u001b[0m\n\u001b[1;32m    629\u001b[0m         \"\"\"\n\u001b[1;32m    630\u001b[0m         \u001b[0;32mif\u001b[0m \u001b[0mbuffer\u001b[0m \u001b[0;32mis\u001b[0m \u001b[0;32mnot\u001b[0m \u001b[0;32mNone\u001b[0m\u001b[0;34m:\u001b[0m\u001b[0;34m\u001b[0m\u001b[0;34m\u001b[0m\u001b[0m\n\u001b[0;32m--> 631\u001b[0;31m             \u001b[0mv\u001b[0m \u001b[0;34m=\u001b[0m \u001b[0mself\u001b[0m\u001b[0;34m.\u001b[0m\u001b[0m_sslobj\u001b[0m\u001b[0;34m.\u001b[0m\u001b[0mread\u001b[0m\u001b[0;34m(\u001b[0m\u001b[0mlen\u001b[0m\u001b[0;34m,\u001b[0m \u001b[0mbuffer\u001b[0m\u001b[0;34m)\u001b[0m\u001b[0;34m\u001b[0m\u001b[0;34m\u001b[0m\u001b[0m\n\u001b[0m\u001b[1;32m    632\u001b[0m         \u001b[0;32melse\u001b[0m\u001b[0;34m:\u001b[0m\u001b[0;34m\u001b[0m\u001b[0;34m\u001b[0m\u001b[0m\n\u001b[1;32m    633\u001b[0m             \u001b[0mv\u001b[0m \u001b[0;34m=\u001b[0m \u001b[0mself\u001b[0m\u001b[0;34m.\u001b[0m\u001b[0m_sslobj\u001b[0m\u001b[0;34m.\u001b[0m\u001b[0mread\u001b[0m\u001b[0;34m(\u001b[0m\u001b[0mlen\u001b[0m\u001b[0;34m)\u001b[0m\u001b[0;34m\u001b[0m\u001b[0;34m\u001b[0m\u001b[0m\n",
            "\u001b[0;31mKeyboardInterrupt\u001b[0m: "
          ]
        }
      ]
    },
    {
      "cell_type": "code",
      "metadata": {
        "id": "wmTxIhQ77auP"
      },
      "source": [
        ""
      ],
      "execution_count": 6,
      "outputs": []
    },
    {
      "cell_type": "code",
      "metadata": {
        "id": "ryL4CvLl7txr"
      },
      "source": [
        ""
      ],
      "execution_count": null,
      "outputs": []
    }
  ]
}